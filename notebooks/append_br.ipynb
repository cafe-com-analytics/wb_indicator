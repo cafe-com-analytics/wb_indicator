{
 "metadata": {
  "language_info": {
   "codemirror_mode": {
    "name": "ipython",
    "version": 3
   },
   "file_extension": ".py",
   "mimetype": "text/x-python",
   "name": "python",
   "nbconvert_exporter": "python",
   "pygments_lexer": "ipython3",
   "version": "3.8.5"
  },
  "orig_nbformat": 2,
  "kernelspec": {
   "name": "python3",
   "display_name": "Python 3",
   "language": "python"
  }
 },
 "nbformat": 4,
 "nbformat_minor": 2,
 "cells": [
  {
   "cell_type": "code",
   "execution_count": 1,
   "metadata": {},
   "outputs": [],
   "source": [
    "import pandas as pd\n",
    "from glob import glob"
   ]
  },
  {
   "cell_type": "code",
   "execution_count": 2,
   "metadata": {},
   "outputs": [],
   "source": [
    "files = glob('../data/raw/acoes_br2/*.csv')"
   ]
  },
  {
   "cell_type": "code",
   "execution_count": 3,
   "metadata": {},
   "outputs": [
    {
     "output_type": "stream",
     "name": "stdout",
     "text": [
      "../data/raw/acoes_br2/QUAL3.csv\n",
      "../data/raw/acoes_br2/ELET6.csv\n",
      "../data/raw/acoes_br2/BBDC3.csv\n",
      "../data/raw/acoes_br2/GNDI3.csv\n",
      "../data/raw/acoes_br2/CPFE3.csv\n",
      "../data/raw/acoes_br2/CVCB3.csv\n",
      "../data/raw/acoes_br2/BEEF3.csv\n",
      "../data/raw/acoes_br2/TAEE11.csv\n",
      "../data/raw/acoes_br2/AZUL4.csv\n",
      "../data/raw/acoes_br2/SULA11.csv\n",
      "../data/raw/acoes_br2/EZTC3.csv\n",
      "../data/raw/acoes_br2/GOLL4.csv\n",
      "../data/raw/acoes_br2/EQTL3.csv\n",
      "../data/raw/acoes_br2/GOAU4.csv\n",
      "../data/raw/acoes_br2/IGTA3.csv\n",
      "../data/raw/acoes_br2/IRBR3.csv\n",
      "../data/raw/acoes_br2/TOTS3.csv\n",
      "../data/raw/acoes_br2/ELET3.csv\n",
      "../data/raw/acoes_br2/YDUQ3.csv\n",
      "../data/raw/acoes_br2/MULT3.csv\n",
      "../data/raw/acoes_br2/USIM5.csv\n",
      "../data/raw/acoes_br2/HGTX3.csv\n",
      "../data/raw/acoes_br2/WEGE3.csv\n",
      "../data/raw/acoes_br2/ITUB4.csv\n",
      "../data/raw/acoes_br2/CYRE3.csv\n",
      "../data/raw/acoes_br2/MRVE3.csv\n",
      "../data/raw/acoes_br2/KLBN11.csv\n",
      "../data/raw/acoes_br2/HYPE3.csv\n",
      "../data/raw/acoes_br2/CSNA3.csv\n",
      "../data/raw/acoes_br2/SUZB3.csv\n",
      "../data/raw/acoes_br2/ENGI11.csv\n",
      "../data/raw/acoes_br2/HAPV3.csv\n",
      "../data/raw/acoes_br2/BPAC11.csv\n",
      "../data/raw/acoes_br2/MGLU3.csv\n",
      "../data/raw/acoes_br2/PRIO3.csv\n",
      "../data/raw/acoes_br2/VVAR3.csv\n",
      "../data/raw/acoes_br2/CRFB3.csv\n",
      "../data/raw/acoes_br2/MRFG3.csv\n",
      "../data/raw/acoes_br2/BRML3.csv\n",
      "../data/raw/acoes_br2/BBDC4.csv\n",
      "../data/raw/acoes_br2/PCAR3.csv\n",
      "../data/raw/acoes_br2/ASAI3.csv\n",
      "../data/raw/acoes_br2/CIEL3.csv\n",
      "../data/raw/acoes_br2/FLRY3.csv\n",
      "../data/raw/acoes_br2/VIVT3.csv\n",
      "../data/raw/acoes_br2/ENEV3.csv\n",
      "../data/raw/acoes_br2/ITSA4.csv\n",
      "../data/raw/acoes_br2/BRFS3.csv\n",
      "../data/raw/acoes_br2/BBSE3.csv\n",
      "../data/raw/acoes_br2/BRDT3.csv\n",
      "../data/raw/acoes_br2/BRAP4.csv\n",
      "../data/raw/acoes_br2/ABEV3.csv\n",
      "../data/raw/acoes_br2/EMBR3.csv\n",
      "../data/raw/acoes_br2/RAIL3.csv\n",
      "../data/raw/acoes_br2/CCRO3.csv\n",
      "../data/raw/acoes_br2/ECOR3.csv\n",
      "../data/raw/acoes_br2/NTCO3.csv\n",
      "../data/raw/acoes_br2/BRKM5.csv\n",
      "../data/raw/acoes_br2/BTOW3.csv\n",
      "../data/raw/acoes_br2/CSAN3.csv\n",
      "../data/raw/acoes_br2/LCAM3.csv\n",
      "../data/raw/acoes_br2/EGIE3.csv\n",
      "../data/raw/acoes_br2/RADL3.csv\n",
      "../data/raw/acoes_br2/PETR4.csv\n",
      "../data/raw/acoes_br2/RENT3.csv\n",
      "../data/raw/acoes_br2/TIMS3.csv\n",
      "../data/raw/acoes_br2/SBSP3.csv\n",
      "../data/raw/acoes_br2/LREN3.csv\n",
      "../data/raw/acoes_br2/B3SA3.csv\n",
      "../data/raw/acoes_br2/BBAS3.csv\n",
      "../data/raw/acoes_br2/GGBR4.csv\n",
      "../data/raw/acoes_br2/JHSF3.csv\n",
      "../data/raw/acoes_br2/VALE3.csv\n",
      "../data/raw/acoes_br2/SANB11.csv\n",
      "../data/raw/acoes_br2/JBSS3.csv\n",
      "../data/raw/acoes_br2/CMIG4.csv\n",
      "../data/raw/acoes_br2/ENBR3.csv\n",
      "../data/raw/acoes_br2/LAME4.csv\n",
      "../data/raw/acoes_br2/PETR3.csv\n",
      "../data/raw/acoes_br2/UGPA3.csv\n",
      "../data/raw/acoes_br2/CPLE6.csv\n",
      "../data/raw/acoes_br2/COGN3.csv\n"
     ]
    }
   ],
   "source": [
    "full_df = None\n",
    "for f in files:\n",
    "    print(f)\n",
    "    df = pd.read_csv(f)\n",
    "    symbol = f.split('/')[-1].split('\\\\')[-1].split('.')[0]\n",
    "    df['Name'] = symbol\n",
    "    if full_df is None:\n",
    "        full_df = df\n",
    "    else:\n",
    "        full_df = full_df.append(df, ignore_index=True)\n",
    "\n"
   ]
  },
  {
   "cell_type": "code",
   "execution_count": 4,
   "metadata": {},
   "outputs": [
    {
     "output_type": "execute_result",
     "data": {
      "text/plain": [
       "              date  1. open  2. high  3. low  4. close  5. volume   Name\n",
       "0       2021-03-31    31.19    31.68   29.73     30.35  5179300.0  QUAL3\n",
       "1       2021-03-30    30.69    31.10   30.46     31.00  3072600.0  QUAL3\n",
       "2       2021-03-29    31.01    31.13   30.29     30.75  1503100.0  QUAL3\n",
       "3       2021-03-26    31.92    32.26   30.67     31.11  3122200.0  QUAL3\n",
       "4       2021-03-25    31.99    32.44   31.53     32.21  2140300.0  QUAL3\n",
       "...            ...      ...      ...     ...       ...        ...    ...\n",
       "262435  2012-06-08     2.20     2.20    2.20      2.20    51665.0  COGN3\n",
       "262436  2012-06-01     2.30     2.31    2.30      2.31     2583.0  COGN3\n",
       "262437  2012-03-29     3.25     3.25    3.25      3.25   170496.0  COGN3\n",
       "262438  2012-03-16     3.25     3.25    3.25      3.25    60707.0  COGN3\n",
       "262439  2012-03-14     3.25     3.25    3.25      3.25     7749.0  COGN3\n",
       "\n",
       "[262440 rows x 7 columns]"
      ],
      "text/html": "<div>\n<style scoped>\n    .dataframe tbody tr th:only-of-type {\n        vertical-align: middle;\n    }\n\n    .dataframe tbody tr th {\n        vertical-align: top;\n    }\n\n    .dataframe thead th {\n        text-align: right;\n    }\n</style>\n<table border=\"1\" class=\"dataframe\">\n  <thead>\n    <tr style=\"text-align: right;\">\n      <th></th>\n      <th>date</th>\n      <th>1. open</th>\n      <th>2. high</th>\n      <th>3. low</th>\n      <th>4. close</th>\n      <th>5. volume</th>\n      <th>Name</th>\n    </tr>\n  </thead>\n  <tbody>\n    <tr>\n      <th>0</th>\n      <td>2021-03-31</td>\n      <td>31.19</td>\n      <td>31.68</td>\n      <td>29.73</td>\n      <td>30.35</td>\n      <td>5179300.0</td>\n      <td>QUAL3</td>\n    </tr>\n    <tr>\n      <th>1</th>\n      <td>2021-03-30</td>\n      <td>30.69</td>\n      <td>31.10</td>\n      <td>30.46</td>\n      <td>31.00</td>\n      <td>3072600.0</td>\n      <td>QUAL3</td>\n    </tr>\n    <tr>\n      <th>2</th>\n      <td>2021-03-29</td>\n      <td>31.01</td>\n      <td>31.13</td>\n      <td>30.29</td>\n      <td>30.75</td>\n      <td>1503100.0</td>\n      <td>QUAL3</td>\n    </tr>\n    <tr>\n      <th>3</th>\n      <td>2021-03-26</td>\n      <td>31.92</td>\n      <td>32.26</td>\n      <td>30.67</td>\n      <td>31.11</td>\n      <td>3122200.0</td>\n      <td>QUAL3</td>\n    </tr>\n    <tr>\n      <th>4</th>\n      <td>2021-03-25</td>\n      <td>31.99</td>\n      <td>32.44</td>\n      <td>31.53</td>\n      <td>32.21</td>\n      <td>2140300.0</td>\n      <td>QUAL3</td>\n    </tr>\n    <tr>\n      <th>...</th>\n      <td>...</td>\n      <td>...</td>\n      <td>...</td>\n      <td>...</td>\n      <td>...</td>\n      <td>...</td>\n      <td>...</td>\n    </tr>\n    <tr>\n      <th>262435</th>\n      <td>2012-06-08</td>\n      <td>2.20</td>\n      <td>2.20</td>\n      <td>2.20</td>\n      <td>2.20</td>\n      <td>51665.0</td>\n      <td>COGN3</td>\n    </tr>\n    <tr>\n      <th>262436</th>\n      <td>2012-06-01</td>\n      <td>2.30</td>\n      <td>2.31</td>\n      <td>2.30</td>\n      <td>2.31</td>\n      <td>2583.0</td>\n      <td>COGN3</td>\n    </tr>\n    <tr>\n      <th>262437</th>\n      <td>2012-03-29</td>\n      <td>3.25</td>\n      <td>3.25</td>\n      <td>3.25</td>\n      <td>3.25</td>\n      <td>170496.0</td>\n      <td>COGN3</td>\n    </tr>\n    <tr>\n      <th>262438</th>\n      <td>2012-03-16</td>\n      <td>3.25</td>\n      <td>3.25</td>\n      <td>3.25</td>\n      <td>3.25</td>\n      <td>60707.0</td>\n      <td>COGN3</td>\n    </tr>\n    <tr>\n      <th>262439</th>\n      <td>2012-03-14</td>\n      <td>3.25</td>\n      <td>3.25</td>\n      <td>3.25</td>\n      <td>3.25</td>\n      <td>7749.0</td>\n      <td>COGN3</td>\n    </tr>\n  </tbody>\n</table>\n<p>262440 rows × 7 columns</p>\n</div>"
     },
     "metadata": {},
     "execution_count": 4
    }
   ],
   "source": [
    "full_df"
   ]
  },
  {
   "cell_type": "code",
   "execution_count": 5,
   "metadata": {},
   "outputs": [],
   "source": [
    "full_df.to_csv('../data/interim/ibovfull_alphavant.csv', index=False)"
   ]
  },
  {
   "cell_type": "code",
   "execution_count": null,
   "metadata": {},
   "outputs": [],
   "source": []
  }
 ]
}