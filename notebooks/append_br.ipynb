{
 "metadata": {
  "language_info": {
   "codemirror_mode": {
    "name": "ipython",
    "version": 3
   },
   "file_extension": ".py",
   "mimetype": "text/x-python",
   "name": "python",
   "nbconvert_exporter": "python",
   "pygments_lexer": "ipython3",
   "version": "3.8.5"
  },
  "orig_nbformat": 2,
  "kernelspec": {
   "name": "python385jvsc74a57bd0d51a86b9b0982077b4216f6bf48bd0485c2af6d9854a1f68476ed4c5687a88c9",
   "display_name": "Python 3.8.5 64-bit ('.venv': pipenv)"
  }
 },
 "nbformat": 4,
 "nbformat_minor": 2,
 "cells": [
  {
   "cell_type": "code",
   "execution_count": 10,
   "metadata": {},
   "outputs": [],
   "source": [
    "import pandas as pd\n",
    "from glob import glob"
   ]
  },
  {
   "cell_type": "code",
   "execution_count": 11,
   "metadata": {},
   "outputs": [],
   "source": [
    "files = glob('../data/raw/acoes_br3/*.csv')"
   ]
  },
  {
   "cell_type": "code",
   "execution_count": 12,
   "metadata": {},
   "outputs": [
    {
     "output_type": "stream",
     "name": "stdout",
     "text": [
      "../data/raw/acoes_br3/QUAL3.csv\n",
      "../data/raw/acoes_br3/ELET6.csv\n",
      "../data/raw/acoes_br3/BBDC3.csv\n",
      "../data/raw/acoes_br3/GNDI3.csv\n",
      "../data/raw/acoes_br3/CPFE3.csv\n",
      "../data/raw/acoes_br3/CVCB3.csv\n",
      "../data/raw/acoes_br3/BEEF3.csv\n",
      "../data/raw/acoes_br3/TAEE11.csv\n",
      "../data/raw/acoes_br3/AZUL4.csv\n",
      "../data/raw/acoes_br3/SULA11.csv\n",
      "../data/raw/acoes_br3/EZTC3.csv\n",
      "../data/raw/acoes_br3/GOLL4.csv\n",
      "../data/raw/acoes_br3/EQTL3.csv\n",
      "../data/raw/acoes_br3/GOAU4.csv\n",
      "../data/raw/acoes_br3/IGTA3.csv\n",
      "../data/raw/acoes_br3/IRBR3.csv\n",
      "../data/raw/acoes_br3/TOTS3.csv\n",
      "../data/raw/acoes_br3/ELET3.csv\n",
      "../data/raw/acoes_br3/YDUQ3.csv\n",
      "../data/raw/acoes_br3/MULT3.csv\n",
      "../data/raw/acoes_br3/USIM5.csv\n",
      "../data/raw/acoes_br3/HGTX3.csv\n",
      "../data/raw/acoes_br3/WEGE3.csv\n",
      "../data/raw/acoes_br3/ITUB4.csv\n",
      "../data/raw/acoes_br3/CYRE3.csv\n",
      "../data/raw/acoes_br3/MRVE3.csv\n",
      "../data/raw/acoes_br3/KLBN11.csv\n",
      "../data/raw/acoes_br3/HYPE3.csv\n",
      "../data/raw/acoes_br3/CSNA3.csv\n",
      "../data/raw/acoes_br3/SUZB3.csv\n",
      "../data/raw/acoes_br3/ENGI11.csv\n",
      "../data/raw/acoes_br3/HAPV3.csv\n",
      "../data/raw/acoes_br3/BPAC11.csv\n",
      "../data/raw/acoes_br3/MGLU3.csv\n",
      "../data/raw/acoes_br3/PRIO3.csv\n",
      "../data/raw/acoes_br3/VVAR3.csv\n",
      "../data/raw/acoes_br3/CRFB3.csv\n",
      "../data/raw/acoes_br3/MRFG3.csv\n",
      "../data/raw/acoes_br3/BRML3.csv\n",
      "../data/raw/acoes_br3/BBDC4.csv\n",
      "../data/raw/acoes_br3/PCAR3.csv\n",
      "../data/raw/acoes_br3/ASAI3.csv\n",
      "../data/raw/acoes_br3/CIEL3.csv\n",
      "../data/raw/acoes_br3/FLRY3.csv\n",
      "../data/raw/acoes_br3/VIVT3.csv\n",
      "../data/raw/acoes_br3/ENEV3.csv\n",
      "../data/raw/acoes_br3/ITSA4.csv\n",
      "../data/raw/acoes_br3/BRFS3.csv\n",
      "../data/raw/acoes_br3/BBSE3.csv\n",
      "../data/raw/acoes_br3/BRDT3.csv\n",
      "../data/raw/acoes_br3/BRAP4.csv\n",
      "../data/raw/acoes_br3/ABEV3.csv\n",
      "../data/raw/acoes_br3/EMBR3.csv\n",
      "../data/raw/acoes_br3/RAIL3.csv\n",
      "../data/raw/acoes_br3/CCRO3.csv\n",
      "../data/raw/acoes_br3/ECOR3.csv\n",
      "../data/raw/acoes_br3/NTCO3.csv\n",
      "../data/raw/acoes_br3/BRKM5.csv\n",
      "../data/raw/acoes_br3/BTOW3.csv\n",
      "../data/raw/acoes_br3/CSAN3.csv\n",
      "../data/raw/acoes_br3/LCAM3.csv\n",
      "../data/raw/acoes_br3/EGIE3.csv\n",
      "../data/raw/acoes_br3/RADL3.csv\n",
      "../data/raw/acoes_br3/PETR4.csv\n",
      "../data/raw/acoes_br3/RENT3.csv\n",
      "../data/raw/acoes_br3/TIMS3.csv\n",
      "../data/raw/acoes_br3/SBSP3.csv\n",
      "../data/raw/acoes_br3/LREN3.csv\n",
      "../data/raw/acoes_br3/B3SA3.csv\n",
      "../data/raw/acoes_br3/BBAS3.csv\n",
      "../data/raw/acoes_br3/GGBR4.csv\n",
      "../data/raw/acoes_br3/JHSF3.csv\n",
      "../data/raw/acoes_br3/VALE3.csv\n",
      "../data/raw/acoes_br3/SANB11.csv\n",
      "../data/raw/acoes_br3/JBSS3.csv\n",
      "../data/raw/acoes_br3/CMIG4.csv\n",
      "../data/raw/acoes_br3/ENBR3.csv\n",
      "../data/raw/acoes_br3/LAME4.csv\n",
      "../data/raw/acoes_br3/PETR3.csv\n",
      "../data/raw/acoes_br3/UGPA3.csv\n",
      "../data/raw/acoes_br3/CPLE6.csv\n",
      "../data/raw/acoes_br3/COGN3.csv\n"
     ]
    }
   ],
   "source": [
    "full_df = None\n",
    "for f in files:\n",
    "    print(f)\n",
    "    df = pd.read_csv(f)\n",
    "    symbol = f.split('/')[-1].split('\\\\')[-1].split('.')[0]\n",
    "    df['Name'] = symbol\n",
    "    if full_df is None:\n",
    "        full_df = df\n",
    "    else:\n",
    "        full_df = full_df.append(df, ignore_index=True)\n",
    "\n"
   ]
  },
  {
   "cell_type": "code",
   "execution_count": 13,
   "metadata": {},
   "outputs": [
    {
     "output_type": "execute_result",
     "data": {
      "text/plain": [
       "              Date   Open   High    Low  Close  Adj Close       Volume   Name\n",
       "0       2011-06-29  13.15  15.15  13.02  15.05  10.347832   10092400.0  QUAL3\n",
       "1       2011-06-30  15.18  15.18  14.60  14.90  10.244698     807400.0  QUAL3\n",
       "2       2011-07-01  14.50  15.20  14.42  15.00  10.313454     351100.0  QUAL3\n",
       "3       2011-07-04  14.81  14.89  14.60  14.75  10.141562     358600.0  QUAL3\n",
       "4       2011-07-05  14.55  15.00  14.55  14.89  10.237821     206200.0  QUAL3\n",
       "...            ...    ...    ...    ...    ...        ...          ...    ...\n",
       "303786  2021-03-26   4.00   4.00   3.81   3.81   3.810000   67854200.0  COGN3\n",
       "303787  2021-03-29   3.83   3.85   3.72   3.77   3.770000   42215200.0  COGN3\n",
       "303788  2021-03-30   3.74   3.91   3.71   3.86   3.860000   45805200.0  COGN3\n",
       "303789  2021-03-31   3.80   4.11   3.76   3.98   3.980000  125676300.0  COGN3\n",
       "303790  2021-04-01   3.99   4.03   3.84   3.84   3.840000   47745900.0  COGN3\n",
       "\n",
       "[303791 rows x 8 columns]"
      ],
      "text/html": "<div>\n<style scoped>\n    .dataframe tbody tr th:only-of-type {\n        vertical-align: middle;\n    }\n\n    .dataframe tbody tr th {\n        vertical-align: top;\n    }\n\n    .dataframe thead th {\n        text-align: right;\n    }\n</style>\n<table border=\"1\" class=\"dataframe\">\n  <thead>\n    <tr style=\"text-align: right;\">\n      <th></th>\n      <th>Date</th>\n      <th>Open</th>\n      <th>High</th>\n      <th>Low</th>\n      <th>Close</th>\n      <th>Adj Close</th>\n      <th>Volume</th>\n      <th>Name</th>\n    </tr>\n  </thead>\n  <tbody>\n    <tr>\n      <th>0</th>\n      <td>2011-06-29</td>\n      <td>13.15</td>\n      <td>15.15</td>\n      <td>13.02</td>\n      <td>15.05</td>\n      <td>10.347832</td>\n      <td>10092400.0</td>\n      <td>QUAL3</td>\n    </tr>\n    <tr>\n      <th>1</th>\n      <td>2011-06-30</td>\n      <td>15.18</td>\n      <td>15.18</td>\n      <td>14.60</td>\n      <td>14.90</td>\n      <td>10.244698</td>\n      <td>807400.0</td>\n      <td>QUAL3</td>\n    </tr>\n    <tr>\n      <th>2</th>\n      <td>2011-07-01</td>\n      <td>14.50</td>\n      <td>15.20</td>\n      <td>14.42</td>\n      <td>15.00</td>\n      <td>10.313454</td>\n      <td>351100.0</td>\n      <td>QUAL3</td>\n    </tr>\n    <tr>\n      <th>3</th>\n      <td>2011-07-04</td>\n      <td>14.81</td>\n      <td>14.89</td>\n      <td>14.60</td>\n      <td>14.75</td>\n      <td>10.141562</td>\n      <td>358600.0</td>\n      <td>QUAL3</td>\n    </tr>\n    <tr>\n      <th>4</th>\n      <td>2011-07-05</td>\n      <td>14.55</td>\n      <td>15.00</td>\n      <td>14.55</td>\n      <td>14.89</td>\n      <td>10.237821</td>\n      <td>206200.0</td>\n      <td>QUAL3</td>\n    </tr>\n    <tr>\n      <th>...</th>\n      <td>...</td>\n      <td>...</td>\n      <td>...</td>\n      <td>...</td>\n      <td>...</td>\n      <td>...</td>\n      <td>...</td>\n      <td>...</td>\n    </tr>\n    <tr>\n      <th>303786</th>\n      <td>2021-03-26</td>\n      <td>4.00</td>\n      <td>4.00</td>\n      <td>3.81</td>\n      <td>3.81</td>\n      <td>3.810000</td>\n      <td>67854200.0</td>\n      <td>COGN3</td>\n    </tr>\n    <tr>\n      <th>303787</th>\n      <td>2021-03-29</td>\n      <td>3.83</td>\n      <td>3.85</td>\n      <td>3.72</td>\n      <td>3.77</td>\n      <td>3.770000</td>\n      <td>42215200.0</td>\n      <td>COGN3</td>\n    </tr>\n    <tr>\n      <th>303788</th>\n      <td>2021-03-30</td>\n      <td>3.74</td>\n      <td>3.91</td>\n      <td>3.71</td>\n      <td>3.86</td>\n      <td>3.860000</td>\n      <td>45805200.0</td>\n      <td>COGN3</td>\n    </tr>\n    <tr>\n      <th>303789</th>\n      <td>2021-03-31</td>\n      <td>3.80</td>\n      <td>4.11</td>\n      <td>3.76</td>\n      <td>3.98</td>\n      <td>3.980000</td>\n      <td>125676300.0</td>\n      <td>COGN3</td>\n    </tr>\n    <tr>\n      <th>303790</th>\n      <td>2021-04-01</td>\n      <td>3.99</td>\n      <td>4.03</td>\n      <td>3.84</td>\n      <td>3.84</td>\n      <td>3.840000</td>\n      <td>47745900.0</td>\n      <td>COGN3</td>\n    </tr>\n  </tbody>\n</table>\n<p>303791 rows × 8 columns</p>\n</div>"
     },
     "metadata": {},
     "execution_count": 13
    }
   ],
   "source": [
    "full_df"
   ]
  },
  {
   "cell_type": "code",
   "execution_count": 14,
   "metadata": {},
   "outputs": [],
   "source": [
    "full_df.to_csv('../data/interim/ibovfull.csv', index=False)"
   ]
  },
  {
   "cell_type": "code",
   "execution_count": null,
   "metadata": {},
   "outputs": [],
   "source": []
  }
 ]
}