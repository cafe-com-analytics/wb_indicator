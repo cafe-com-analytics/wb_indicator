{
 "metadata": {
  "language_info": {
   "codemirror_mode": {
    "name": "ipython",
    "version": 3
   },
   "file_extension": ".py",
   "mimetype": "text/x-python",
   "name": "python",
   "nbconvert_exporter": "python",
   "pygments_lexer": "ipython3",
   "version": "3.8.5"
  },
  "orig_nbformat": 2,
  "kernelspec": {
   "name": "python3",
   "display_name": "Python 3.8.5 64-bit",
   "metadata": {
    "interpreter": {
     "hash": "d51a86b9b0982077b4216f6bf48bd0485c2af6d9854a1f68476ed4c5687a88c9"
    }
   }
  }
 },
 "nbformat": 4,
 "nbformat_minor": 2,
 "cells": [
  {
   "cell_type": "code",
   "execution_count": 9,
   "metadata": {},
   "outputs": [],
   "source": [
    "import pandas as pd\n",
    "import yfinance as yf\n",
    "import os\n",
    "import time\n",
    "import pandas_datareader.data as web\n",
    "import datetime as dt\n",
    "import matplotlib.pyplot as fig\n",
    "from alpha_vantage.timeseries import TimeSeries"
   ]
  },
  {
   "cell_type": "code",
   "execution_count": 10,
   "metadata": {},
   "outputs": [],
   "source": [
    "\n",
    "url = 'http://bvmf.bmfbovespa.com.br/indices/ResumoCarteiraTeorica.aspx?Indice=IBOV&idioma=pt-br'\n",
    "df_br_stocks = pd.read_html(url, encoding='utf-8', decimal=',', thousands='.')[0][:-1]\n",
    "\n",
    "df_br_stocks['Symbol_reduced'] = df_br_stocks['Código']+str('.SAO')\n",
    "\n",
    "# df_br_stocks = df_br_stocks.loc[~df_br_stocks['Symbol'].str[0].str.isnumeric(), :]\n",
    "\n",
    "# br_stock_symbols = df_br_stocks['Symbol'].unique().tolist()\n",
    "\n",
    "# df_br_stocks = df_br_stocks[['Symbol', 'Symbol_reduced', 'Company Name', 'Last Price', 'Change', '% Change', 'Volume']]\n",
    "\n",
    "df_br_stocks\n",
    "\n",
    "symbols = df_br_stocks['Symbol_reduced'].unique().tolist()\n",
    "\n",
    "df_br_stocks.head(10)\n",
    "df_br_stocks\n",
    "\n",
    "symbols = df_br_stocks['Symbol_reduced'].unique().tolist()"
   ]
  },
  {
   "cell_type": "code",
   "execution_count": 11,
   "metadata": {},
   "outputs": [
    {
     "output_type": "stream",
     "name": "stdout",
     "text": [
      "['ABEV3.SAO', 'ASAI3.SAO', 'AZUL4.SAO', 'B3SA3.SAO', 'BBAS3.SAO', 'BBDC3.SAO', 'BBDC4.SAO', 'BBSE3.SAO', 'BEEF3.SAO', 'BPAC11.SAO', 'BRAP4.SAO', 'BRDT3.SAO', 'BRFS3.SAO', 'BRKM5.SAO', 'BRML3.SAO', 'BTOW3.SAO', 'CCRO3.SAO', 'CIEL3.SAO', 'CMIG4.SAO', 'COGN3.SAO', 'CPFE3.SAO', 'CPLE6.SAO', 'CRFB3.SAO', 'CSAN3.SAO', 'CSNA3.SAO', 'CVCB3.SAO', 'CYRE3.SAO', 'ECOR3.SAO', 'EGIE3.SAO', 'ELET3.SAO', 'ELET6.SAO', 'EMBR3.SAO', 'ENBR3.SAO', 'ENEV3.SAO', 'ENGI11.SAO', 'EQTL3.SAO', 'EZTC3.SAO', 'FLRY3.SAO', 'GGBR4.SAO', 'GNDI3.SAO', 'GOAU4.SAO', 'GOLL4.SAO', 'HAPV3.SAO', 'HGTX3.SAO', 'HYPE3.SAO', 'IGTA3.SAO', 'IRBR3.SAO', 'ITSA4.SAO', 'ITUB4.SAO', 'JBSS3.SAO', 'JHSF3.SAO', 'KLBN11.SAO', 'LAME4.SAO', 'LCAM3.SAO', 'LREN3.SAO', 'MGLU3.SAO', 'MRFG3.SAO', 'MRVE3.SAO', 'MULT3.SAO', 'NTCO3.SAO', 'PCAR3.SAO', 'PETR3.SAO', 'PETR4.SAO', 'PRIO3.SAO', 'QUAL3.SAO', 'RADL3.SAO', 'RAIL3.SAO', 'RENT3.SAO', 'SANB11.SAO', 'SBSP3.SAO', 'SULA11.SAO', 'SUZB3.SAO', 'TAEE11.SAO', 'TIMS3.SAO', 'TOTS3.SAO', 'UGPA3.SAO', 'USIM5.SAO', 'VALE3.SAO', 'VIVT3.SAO', 'VVAR3.SAO', 'WEGE3.SAO', 'YDUQ3.SAO']\n"
     ]
    }
   ],
   "source": [
    "print(symbols)"
   ]
  },
  {
   "cell_type": "code",
   "execution_count": 14,
   "metadata": {},
   "outputs": [],
   "source": [
    "ALPHAVANTAGE_API_KEY = 'JUM6UDH4WL8TFLRQ'"
   ]
  },
  {
   "cell_type": "code",
   "execution_count": 15,
   "metadata": {},
   "outputs": [],
   "source": [
    "ts = TimeSeries(key=ALPHAVANTAGE_API_KEY, output_format='pandas')"
   ]
  },
  {
   "cell_type": "code",
   "execution_count": 28,
   "metadata": {},
   "outputs": [
    {
     "output_type": "stream",
     "name": "stdout",
     "text": [
      "ok: 0\nnok: 0\n"
     ]
    }
   ],
   "source": [
    "ok = nok = 0\n",
    "contador = 1\n",
    "for symbol in symbols:\n",
    "  if (contador % 6) != 0:\n",
    "    if not os.path.exists(f\"../data/raw/acoes_br2/{symbol.split('.')[0]}.csv\"):\n",
    "      data , meta_data = ts.get_daily(symbol = symbol, outputsize='full')\n",
    "      contador = contador + 1\n",
    "      if data.size > 0:\n",
    "        data.to_csv(f\"\"\"../data/raw/acoes_br2/{symbol.split('.')[0]}.csv\"\"\")\n",
    "        ok += 1\n",
    "      else:\n",
    "        print(\"Not saving...\")\n",
    "        nok += 1\n",
    "      #   lst_delist.append(symbol)\n",
    "  else:\n",
    "    time.sleep(60) # Sleep for 60 seconds\n",
    "    contador = contador + 1\n",
    "\n",
    "print(f\"\"\"ok: {ok}\n",
    "nok: {nok}\"\"\")\n",
    "\n",
    "for symbol in symbols:\n",
    "  try:\n",
    "    s = open(f\"../data/raw/acoes_br2/{symbol.split('.')[0]}.csv\").readlines()\n",
    "    if len(s) < 10:\n",
    "      os.system(f\"rm ../data/raw/acoes_br2/{symbol.split('.')[0]}.csv\")\n",
    "  except:\n",
    "    print(f\"{symbol.split('.')[0]}.csv does not exist.\")\n",
    "    continue"
   ]
  },
  {
   "cell_type": "code",
   "execution_count": 16,
   "metadata": {},
   "outputs": [],
   "source": [
    "ts.get_symbol_search('BBAS3')"
   ]
  },
  {
   "cell_type": "code",
   "execution_count": null,
   "metadata": {},
   "outputs": [],
   "source": [
    "data , meta_data = ts.get_daily(symbol = symbol, outputsize='full')\n",
    "data.to_csv(f\"\"\"../data/raw/acoes_br2/{symbol.split('.')[0]}.csv\"\"\")"
   ]
  },
  {
   "cell_type": "code",
   "execution_count": null,
   "metadata": {},
   "outputs": [],
   "source": []
  },
  {
   "cell_type": "code",
   "execution_count": null,
   "metadata": {},
   "outputs": [],
   "source": []
  }
 ]
}