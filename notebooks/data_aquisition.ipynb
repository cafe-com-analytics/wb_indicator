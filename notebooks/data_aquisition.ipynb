{
 "metadata": {
  "language_info": {
   "codemirror_mode": {
    "name": "ipython",
    "version": 3
   },
   "file_extension": ".py",
   "mimetype": "text/x-python",
   "name": "python",
   "nbconvert_exporter": "python",
   "pygments_lexer": "ipython3",
   "version": "3.8.5"
  },
  "orig_nbformat": 2,
  "kernelspec": {
   "name": "pythonjvsc74a57bd060ec3851708253059b69e2e0be934bd440af982f68ec45d276347e14c14f50b6",
   "display_name": "Python 3.8.5  ('3.8.5': pyenv)"
  },
  "metadata": {
   "interpreter": {
    "hash": "60ec3851708253059b69e2e0be934bd440af982f68ec45d276347e14c14f50b6"
   }
  }
 },
 "nbformat": 4,
 "nbformat_minor": 2,
 "cells": [
  {
   "source": [
    "# Data Acquisition"
   ],
   "cell_type": "markdown",
   "metadata": {}
  },
  {
   "cell_type": "code",
   "execution_count": 36,
   "metadata": {},
   "outputs": [],
   "source": [
    "import matplotlib\n",
    "import pandas as pd\n",
    "import seaborn as sns\n",
    "\n",
    "import yfinance as yf\n",
    "\n",
    "pd.options.display.float_format = \"{:,.2f}\".format"
   ]
  },
  {
   "source": [
    "*ATENÇÃO*\n",
    "Não foi possível raspar o site.\n",
    "Usarei a lista que obtivemos anteriormente."
   ],
   "cell_type": "markdown",
   "metadata": {}
  },
  {
   "cell_type": "code",
   "execution_count": 37,
   "metadata": {},
   "outputs": [
    {
     "output_type": "stream",
     "name": "stdout",
     "text": [
      "[*********************100%***********************]  1 of 1 completed\n"
     ]
    },
    {
     "output_type": "execute_result",
     "data": {
      "text/plain": [
       "                 Open       High        Low      Close  Adj Close   Volume  \\\n",
       "Date                                                                         \n",
       "2021-03-22 116,222.00 116,225.00 113,620.00 114,979.00 114,979.00  8160600   \n",
       "2021-03-23 114,977.00 115,599.00 113,062.00 113,262.00 113,262.00  8301500   \n",
       "\n",
       "                 market_value  \n",
       "Date                           \n",
       "2021-03-22 938,297,627,400.00  \n",
       "2021-03-23 940,244,493,000.00  "
      ],
      "text/html": "<div>\n<style scoped>\n    .dataframe tbody tr th:only-of-type {\n        vertical-align: middle;\n    }\n\n    .dataframe tbody tr th {\n        vertical-align: top;\n    }\n\n    .dataframe thead th {\n        text-align: right;\n    }\n</style>\n<table border=\"1\" class=\"dataframe\">\n  <thead>\n    <tr style=\"text-align: right;\">\n      <th></th>\n      <th>Open</th>\n      <th>High</th>\n      <th>Low</th>\n      <th>Close</th>\n      <th>Adj Close</th>\n      <th>Volume</th>\n      <th>market_value</th>\n    </tr>\n    <tr>\n      <th>Date</th>\n      <th></th>\n      <th></th>\n      <th></th>\n      <th></th>\n      <th></th>\n      <th></th>\n      <th></th>\n    </tr>\n  </thead>\n  <tbody>\n    <tr>\n      <th>2021-03-22</th>\n      <td>116,222.00</td>\n      <td>116,225.00</td>\n      <td>113,620.00</td>\n      <td>114,979.00</td>\n      <td>114,979.00</td>\n      <td>8160600</td>\n      <td>938,297,627,400.00</td>\n    </tr>\n    <tr>\n      <th>2021-03-23</th>\n      <td>114,977.00</td>\n      <td>115,599.00</td>\n      <td>113,062.00</td>\n      <td>113,262.00</td>\n      <td>113,262.00</td>\n      <td>8301500</td>\n      <td>940,244,493,000.00</td>\n    </tr>\n  </tbody>\n</table>\n</div>"
     },
     "metadata": {},
     "execution_count": 37
    }
   ],
   "source": [
    "data01 = yf.download([\"^BVSP\"], start=\"2021-03-22\", end=\"2021-03-24\")\n",
    "\n",
    "data01[\"market_value\"] = data01[\"Volume\"]*data01[\"Close\"]\n",
    "data01.head()\n",
    "\n",
    "data01"
   ]
  },
  {
   "cell_type": "code",
   "execution_count": 41,
   "metadata": {},
   "outputs": [
    {
     "output_type": "stream",
     "name": "stdout",
     "text": [
      "[*********************100%***********************]  2 of 2 completed\n",
      "            AZUL4.SA  ITUB4.SA\n",
      "Date                          \n",
      "2021-03-22     39.43     28.37\n",
      "2021-03-23     36.75     27.65\n",
      "2021-03-24     36.53     27.17\n",
      "2021-03-25     37.21     27.65\n",
      "2021-03-26     37.37     28.07\n",
      "\n",
      "\n",
      "            AZUL4.SA  ITUB4.SA\n",
      "Date                          \n",
      "2021-03-22      1.00      1.00\n",
      "2021-03-23      0.93      0.97\n",
      "2021-03-24      0.93      0.96\n",
      "2021-03-25      0.94      0.97\n",
      "2021-03-26      0.95      0.99\n"
     ]
    }
   ],
   "source": [
    "try:\n",
    "    from src.data_acquisition.collect_tickers_data import TickersCollector, DataCollector\n",
    "except:\n",
    "    os.chdir('../')\n",
    "    from src.data_acquisition.collect_tickers_data import TickersCollector, DataCollector\n",
    "\n",
    "tickers = TickersCollector(market='br', symbols_list=['ITUB4.SA', 'AZUL4.SA'], qty=1)\n",
    "lst_tickers = tickers.show_tickers()\n",
    "data_collector = DataCollector(symbols_list=lst_tickers, start_date='2021-03-22', end_date='2021-03-27')\n",
    "\n",
    "chart_data = data_collector.get_data(data_type=\"Close\")\n",
    "chart_data = chart_data.round(2)\n",
    "chart_data_normalised = chart_data/chart_data.iloc[0]\n",
    "\n",
    "print(chart_data.head())\n",
    "print(\"\\n\")\n",
    "print(chart_data_normalised.head())"
   ]
  },
  {
   "cell_type": "code",
   "execution_count": 42,
   "metadata": {},
   "outputs": [
    {
     "output_type": "execute_result",
     "data": {
      "text/plain": [
       "        Date index(es)  return(s)\n",
       "0 2021-03-22  AZUL4.SA       1.00\n",
       "1 2021-03-23  AZUL4.SA       0.93\n",
       "2 2021-03-24  AZUL4.SA       0.93\n",
       "3 2021-03-25  AZUL4.SA       0.94\n",
       "4 2021-03-26  AZUL4.SA       0.95\n",
       "5 2021-03-22  ITUB4.SA       1.00\n",
       "6 2021-03-23  ITUB4.SA       0.97\n",
       "7 2021-03-24  ITUB4.SA       0.96\n",
       "8 2021-03-25  ITUB4.SA       0.97\n",
       "9 2021-03-26  ITUB4.SA       0.99"
      ],
      "text/html": "<div>\n<style scoped>\n    .dataframe tbody tr th:only-of-type {\n        vertical-align: middle;\n    }\n\n    .dataframe tbody tr th {\n        vertical-align: top;\n    }\n\n    .dataframe thead th {\n        text-align: right;\n    }\n</style>\n<table border=\"1\" class=\"dataframe\">\n  <thead>\n    <tr style=\"text-align: right;\">\n      <th></th>\n      <th>Date</th>\n      <th>index(es)</th>\n      <th>return(s)</th>\n    </tr>\n  </thead>\n  <tbody>\n    <tr>\n      <th>0</th>\n      <td>2021-03-22</td>\n      <td>AZUL4.SA</td>\n      <td>1.00</td>\n    </tr>\n    <tr>\n      <th>1</th>\n      <td>2021-03-23</td>\n      <td>AZUL4.SA</td>\n      <td>0.93</td>\n    </tr>\n    <tr>\n      <th>2</th>\n      <td>2021-03-24</td>\n      <td>AZUL4.SA</td>\n      <td>0.93</td>\n    </tr>\n    <tr>\n      <th>3</th>\n      <td>2021-03-25</td>\n      <td>AZUL4.SA</td>\n      <td>0.94</td>\n    </tr>\n    <tr>\n      <th>4</th>\n      <td>2021-03-26</td>\n      <td>AZUL4.SA</td>\n      <td>0.95</td>\n    </tr>\n    <tr>\n      <th>5</th>\n      <td>2021-03-22</td>\n      <td>ITUB4.SA</td>\n      <td>1.00</td>\n    </tr>\n    <tr>\n      <th>6</th>\n      <td>2021-03-23</td>\n      <td>ITUB4.SA</td>\n      <td>0.97</td>\n    </tr>\n    <tr>\n      <th>7</th>\n      <td>2021-03-24</td>\n      <td>ITUB4.SA</td>\n      <td>0.96</td>\n    </tr>\n    <tr>\n      <th>8</th>\n      <td>2021-03-25</td>\n      <td>ITUB4.SA</td>\n      <td>0.97</td>\n    </tr>\n    <tr>\n      <th>9</th>\n      <td>2021-03-26</td>\n      <td>ITUB4.SA</td>\n      <td>0.99</td>\n    </tr>\n  </tbody>\n</table>\n</div>"
     },
     "metadata": {},
     "execution_count": 42
    }
   ],
   "source": [
    "var_name = 'index(es)'\n",
    "value_name = 'return(s)'\n",
    "\n",
    "df = chart_data_normalised.reset_index()\n",
    "df = df.melt('Date', var_name=var_name, value_name=value_name)\n",
    "df.dropna(how='any', inplace=True)\n",
    "df.head(10)"
   ]
  },
  {
   "cell_type": "code",
   "execution_count": 43,
   "metadata": {},
   "outputs": [
    {
     "output_type": "execute_result",
     "data": {
      "text/plain": [
       "   Código             Ação                                              Setor  \\\n",
       "0   ABEV3        AMBEV S/A  [Consumo não Cíclico, Bebidas, Cervejas, Refri...   \n",
       "1   AZUL4             AZUL   [Bens Industriais, Transporte, Transporte Aéreo]   \n",
       "2   B3SA3               B3  [Financeiro, Outros, Serviços Financeiros Dive...   \n",
       "3   BBAS3  BANCO DO BRASIL  [Financeiro, Outros, Intermediários Financeiro...   \n",
       "4   BBDC3         BRADESCO  [Financeiro, Outros, Intermediários Financeiro...   \n",
       "..    ...              ...                                                ...   \n",
       "70  VALE3             VALE  [Materiais Básicos, Mineração, Minerais Metáli...   \n",
       "71  VIVT4     TELEF BRASIL                                 [Telecomunicações]   \n",
       "72  VVAR3        VIAVAREJO                        [Consumo Cíclico, Comércio]   \n",
       "73  WEGE3              WEG         [Bens Industriais, Máquinas, Equipamentos]   \n",
       "74  YDUQ3       YDUQS PART           [Consumo Cíclico, Serviços Educacionais]   \n",
       "\n",
       "         Tipo                           Site  \n",
       "0          ON         http://ri.ambev.com.br  \n",
       "1       PN N2    https://www.voeazul.com.br/  \n",
       "2       ON NM          http://www.b3.com.br/  \n",
       "3   ON ERJ NM          http://www.bb.com.br/  \n",
       "4       ON N1    http://www.bradesco.com.br/  \n",
       "..        ...                            ...  \n",
       "70      ON NM           http://www.vale.com/  \n",
       "71         PN  http://www.telefonica.com.br/  \n",
       "72      ON NM  https://www.viavarejo.com.br/  \n",
       "73      ON NM           https://www.weg.net/  \n",
       "74      ON NM      https://www.yduqs.com.br/  \n",
       "\n",
       "[75 rows x 5 columns]"
      ],
      "text/html": "<div>\n<style scoped>\n    .dataframe tbody tr th:only-of-type {\n        vertical-align: middle;\n    }\n\n    .dataframe tbody tr th {\n        vertical-align: top;\n    }\n\n    .dataframe thead th {\n        text-align: right;\n    }\n</style>\n<table border=\"1\" class=\"dataframe\">\n  <thead>\n    <tr style=\"text-align: right;\">\n      <th></th>\n      <th>Código</th>\n      <th>Ação</th>\n      <th>Setor</th>\n      <th>Tipo</th>\n      <th>Site</th>\n    </tr>\n  </thead>\n  <tbody>\n    <tr>\n      <th>0</th>\n      <td>ABEV3</td>\n      <td>AMBEV S/A</td>\n      <td>[Consumo não Cíclico, Bebidas, Cervejas, Refri...</td>\n      <td>ON</td>\n      <td>http://ri.ambev.com.br</td>\n    </tr>\n    <tr>\n      <th>1</th>\n      <td>AZUL4</td>\n      <td>AZUL</td>\n      <td>[Bens Industriais, Transporte, Transporte Aéreo]</td>\n      <td>PN N2</td>\n      <td>https://www.voeazul.com.br/</td>\n    </tr>\n    <tr>\n      <th>2</th>\n      <td>B3SA3</td>\n      <td>B3</td>\n      <td>[Financeiro, Outros, Serviços Financeiros Dive...</td>\n      <td>ON NM</td>\n      <td>http://www.b3.com.br/</td>\n    </tr>\n    <tr>\n      <th>3</th>\n      <td>BBAS3</td>\n      <td>BANCO DO BRASIL</td>\n      <td>[Financeiro, Outros, Intermediários Financeiro...</td>\n      <td>ON ERJ NM</td>\n      <td>http://www.bb.com.br/</td>\n    </tr>\n    <tr>\n      <th>4</th>\n      <td>BBDC3</td>\n      <td>BRADESCO</td>\n      <td>[Financeiro, Outros, Intermediários Financeiro...</td>\n      <td>ON N1</td>\n      <td>http://www.bradesco.com.br/</td>\n    </tr>\n    <tr>\n      <th>...</th>\n      <td>...</td>\n      <td>...</td>\n      <td>...</td>\n      <td>...</td>\n      <td>...</td>\n    </tr>\n    <tr>\n      <th>70</th>\n      <td>VALE3</td>\n      <td>VALE</td>\n      <td>[Materiais Básicos, Mineração, Minerais Metáli...</td>\n      <td>ON NM</td>\n      <td>http://www.vale.com/</td>\n    </tr>\n    <tr>\n      <th>71</th>\n      <td>VIVT4</td>\n      <td>TELEF BRASIL</td>\n      <td>[Telecomunicações]</td>\n      <td>PN</td>\n      <td>http://www.telefonica.com.br/</td>\n    </tr>\n    <tr>\n      <th>72</th>\n      <td>VVAR3</td>\n      <td>VIAVAREJO</td>\n      <td>[Consumo Cíclico, Comércio]</td>\n      <td>ON NM</td>\n      <td>https://www.viavarejo.com.br/</td>\n    </tr>\n    <tr>\n      <th>73</th>\n      <td>WEGE3</td>\n      <td>WEG</td>\n      <td>[Bens Industriais, Máquinas, Equipamentos]</td>\n      <td>ON NM</td>\n      <td>https://www.weg.net/</td>\n    </tr>\n    <tr>\n      <th>74</th>\n      <td>YDUQ3</td>\n      <td>YDUQS PART</td>\n      <td>[Consumo Cíclico, Serviços Educacionais]</td>\n      <td>ON NM</td>\n      <td>https://www.yduqs.com.br/</td>\n    </tr>\n  </tbody>\n</table>\n<p>75 rows × 5 columns</p>\n</div>"
     },
     "metadata": {},
     "execution_count": 43
    }
   ],
   "source": [
    "components = pd.read_html(\"https://pt.wikipedia.org/wiki/Lista_de_companhias_citadas_no_Ibovespa\")[0]\n",
    "components[\"Setor\"] = components[\"Setor\"].str.replace(\" e \", \" / \", regex=False)\n",
    "components[\"Setor\"] = components[\"Setor\"].str.split(\" / \")\n",
    "components"
   ]
  },
  {
   "cell_type": "code",
   "execution_count": 45,
   "metadata": {},
   "outputs": [
    {
     "output_type": "execute_result",
     "data": {
      "text/plain": [
       "   Mês/Ano  N.º empresas  Valor de mercado em R$  Valor de mercado em US$\n",
       "0  01/1998            45      193,441,400,000.00       172,146,840,000.00\n",
       "1  02/1998            45      203,195,970,000.00       179,755,810,000.00\n",
       "2  03/1998            48      224,271,340,000.00       197,178,950,000.00\n",
       "3  04/1998            48      222,212,640,000.00       194,190,890,000.00\n",
       "4  05/1998            50      186,326,890,000.00       161,952,970,000.00"
      ],
      "text/html": "<div>\n<style scoped>\n    .dataframe tbody tr th:only-of-type {\n        vertical-align: middle;\n    }\n\n    .dataframe tbody tr th {\n        vertical-align: top;\n    }\n\n    .dataframe thead th {\n        text-align: right;\n    }\n</style>\n<table border=\"1\" class=\"dataframe\">\n  <thead>\n    <tr style=\"text-align: right;\">\n      <th></th>\n      <th>Mês/Ano</th>\n      <th>N.º empresas</th>\n      <th>Valor de mercado em R$</th>\n      <th>Valor de mercado em US$</th>\n    </tr>\n  </thead>\n  <tbody>\n    <tr>\n      <th>0</th>\n      <td>01/1998</td>\n      <td>45</td>\n      <td>193,441,400,000.00</td>\n      <td>172,146,840,000.00</td>\n    </tr>\n    <tr>\n      <th>1</th>\n      <td>02/1998</td>\n      <td>45</td>\n      <td>203,195,970,000.00</td>\n      <td>179,755,810,000.00</td>\n    </tr>\n    <tr>\n      <th>2</th>\n      <td>03/1998</td>\n      <td>48</td>\n      <td>224,271,340,000.00</td>\n      <td>197,178,950,000.00</td>\n    </tr>\n    <tr>\n      <th>3</th>\n      <td>04/1998</td>\n      <td>48</td>\n      <td>222,212,640,000.00</td>\n      <td>194,190,890,000.00</td>\n    </tr>\n    <tr>\n      <th>4</th>\n      <td>05/1998</td>\n      <td>50</td>\n      <td>186,326,890,000.00</td>\n      <td>161,952,970,000.00</td>\n    </tr>\n  </tbody>\n</table>\n</div>"
     },
     "metadata": {},
     "execution_count": 45
    }
   ],
   "source": [
    "file = \"./data/raw/df_valor_mercado_b3_202103.csv\"\n",
    "df_valor_mercado = pd.read_csv(file, delimiter='\\t', decimal=',', thousands='.')\n",
    "df_valor_mercado.head()"
   ]
  },
  {
   "cell_type": "code",
   "execution_count": 49,
   "metadata": {},
   "outputs": [
    {
     "output_type": "execute_result",
     "data": {
      "text/plain": [
       "        mes_ano      trimestre_ano    valor_brl\n",
       "295  01/08/2020  3º trimestre 2020 1,891,735.27\n",
       "296  01/09/2020  3º trimestre 2020 1,891,735.27\n",
       "297  01/10/2020  4º trimestre 2020 2,003,500.27\n",
       "298  01/11/2020  4º trimestre 2020 2,003,500.27\n",
       "299  01/12/2020  4º trimestre 2020 2,003,500.27"
      ],
      "text/html": "<div>\n<style scoped>\n    .dataframe tbody tr th:only-of-type {\n        vertical-align: middle;\n    }\n\n    .dataframe tbody tr th {\n        vertical-align: top;\n    }\n\n    .dataframe thead th {\n        text-align: right;\n    }\n</style>\n<table border=\"1\" class=\"dataframe\">\n  <thead>\n    <tr style=\"text-align: right;\">\n      <th></th>\n      <th>mes_ano</th>\n      <th>trimestre_ano</th>\n      <th>valor_brl</th>\n    </tr>\n  </thead>\n  <tbody>\n    <tr>\n      <th>295</th>\n      <td>01/08/2020</td>\n      <td>3º trimestre 2020</td>\n      <td>1,891,735.27</td>\n    </tr>\n    <tr>\n      <th>296</th>\n      <td>01/09/2020</td>\n      <td>3º trimestre 2020</td>\n      <td>1,891,735.27</td>\n    </tr>\n    <tr>\n      <th>297</th>\n      <td>01/10/2020</td>\n      <td>4º trimestre 2020</td>\n      <td>2,003,500.27</td>\n    </tr>\n    <tr>\n      <th>298</th>\n      <td>01/11/2020</td>\n      <td>4º trimestre 2020</td>\n      <td>2,003,500.27</td>\n    </tr>\n    <tr>\n      <th>299</th>\n      <td>01/12/2020</td>\n      <td>4º trimestre 2020</td>\n      <td>2,003,500.27</td>\n    </tr>\n  </tbody>\n</table>\n</div>"
     },
     "metadata": {},
     "execution_count": 49
    }
   ],
   "source": [
    "file = \"./data/raw/df_pib_valor_corrente_202103.csv\"\n",
    "df_pib = pd.read_csv(file, delimiter=';')\n",
    "df_pib.tail()"
   ]
  },
  {
   "cell_type": "code",
   "execution_count": 52,
   "metadata": {},
   "outputs": [
    {
     "output_type": "error",
     "ename": "ValueError",
     "evalue": "Expected object or value",
     "traceback": [
      "\u001b[0;31m---------------------------------------------------------------------------\u001b[0m",
      "\u001b[0;31mValueError\u001b[0m                                Traceback (most recent call last)",
      "\u001b[0;32m<ipython-input-52-951f021e5280>\u001b[0m in \u001b[0;36m<module>\u001b[0;34m\u001b[0m\n\u001b[1;32m      2\u001b[0m \u001b[0murl_bc\u001b[0m \u001b[0;34m=\u001b[0m \u001b[0;34m\"http://api.bcb.gov.br/dados/serie/bcdata.sgs.24363/dados?formato=json\"\u001b[0m\u001b[0;34m+\u001b[0m\u001b[0mbc_code\u001b[0m\u001b[0;34m\u001b[0m\u001b[0;34m\u001b[0m\u001b[0m\n\u001b[1;32m      3\u001b[0m \u001b[0;34m\u001b[0m\u001b[0m\n\u001b[0;32m----> 4\u001b[0;31m \u001b[0mdf_pib\u001b[0m \u001b[0;34m=\u001b[0m \u001b[0mpd\u001b[0m\u001b[0;34m.\u001b[0m\u001b[0mread_json\u001b[0m\u001b[0;34m(\u001b[0m\u001b[0murl\u001b[0m\u001b[0;34m)\u001b[0m\u001b[0;34m\u001b[0m\u001b[0;34m\u001b[0m\u001b[0m\n\u001b[0m\u001b[1;32m      5\u001b[0m \u001b[0mdf_pib\u001b[0m\u001b[0;34m.\u001b[0m\u001b[0mhead\u001b[0m\u001b[0;34m(\u001b[0m\u001b[0;34m)\u001b[0m\u001b[0;34m\u001b[0m\u001b[0;34m\u001b[0m\u001b[0m\n",
      "\u001b[0;32m~/development/cafe_com_analytics/wb_indicator/.venv/lib/python3.8/site-packages/pandas/util/_decorators.py\u001b[0m in \u001b[0;36mwrapper\u001b[0;34m(*args, **kwargs)\u001b[0m\n\u001b[1;32m    197\u001b[0m                 \u001b[0;32melse\u001b[0m\u001b[0;34m:\u001b[0m\u001b[0;34m\u001b[0m\u001b[0;34m\u001b[0m\u001b[0m\n\u001b[1;32m    198\u001b[0m                     \u001b[0mkwargs\u001b[0m\u001b[0;34m[\u001b[0m\u001b[0mnew_arg_name\u001b[0m\u001b[0;34m]\u001b[0m \u001b[0;34m=\u001b[0m \u001b[0mnew_arg_value\u001b[0m\u001b[0;34m\u001b[0m\u001b[0;34m\u001b[0m\u001b[0m\n\u001b[0;32m--> 199\u001b[0;31m             \u001b[0;32mreturn\u001b[0m \u001b[0mfunc\u001b[0m\u001b[0;34m(\u001b[0m\u001b[0;34m*\u001b[0m\u001b[0margs\u001b[0m\u001b[0;34m,\u001b[0m \u001b[0;34m**\u001b[0m\u001b[0mkwargs\u001b[0m\u001b[0;34m)\u001b[0m\u001b[0;34m\u001b[0m\u001b[0;34m\u001b[0m\u001b[0m\n\u001b[0m\u001b[1;32m    200\u001b[0m \u001b[0;34m\u001b[0m\u001b[0m\n\u001b[1;32m    201\u001b[0m         \u001b[0;32mreturn\u001b[0m \u001b[0mcast\u001b[0m\u001b[0;34m(\u001b[0m\u001b[0mF\u001b[0m\u001b[0;34m,\u001b[0m \u001b[0mwrapper\u001b[0m\u001b[0;34m)\u001b[0m\u001b[0;34m\u001b[0m\u001b[0;34m\u001b[0m\u001b[0m\n",
      "\u001b[0;32m~/development/cafe_com_analytics/wb_indicator/.venv/lib/python3.8/site-packages/pandas/util/_decorators.py\u001b[0m in \u001b[0;36mwrapper\u001b[0;34m(*args, **kwargs)\u001b[0m\n\u001b[1;32m    297\u001b[0m                 )\n\u001b[1;32m    298\u001b[0m                 \u001b[0mwarnings\u001b[0m\u001b[0;34m.\u001b[0m\u001b[0mwarn\u001b[0m\u001b[0;34m(\u001b[0m\u001b[0mmsg\u001b[0m\u001b[0;34m,\u001b[0m \u001b[0mFutureWarning\u001b[0m\u001b[0;34m,\u001b[0m \u001b[0mstacklevel\u001b[0m\u001b[0;34m=\u001b[0m\u001b[0mstacklevel\u001b[0m\u001b[0;34m)\u001b[0m\u001b[0;34m\u001b[0m\u001b[0;34m\u001b[0m\u001b[0m\n\u001b[0;32m--> 299\u001b[0;31m             \u001b[0;32mreturn\u001b[0m \u001b[0mfunc\u001b[0m\u001b[0;34m(\u001b[0m\u001b[0;34m*\u001b[0m\u001b[0margs\u001b[0m\u001b[0;34m,\u001b[0m \u001b[0;34m**\u001b[0m\u001b[0mkwargs\u001b[0m\u001b[0;34m)\u001b[0m\u001b[0;34m\u001b[0m\u001b[0;34m\u001b[0m\u001b[0m\n\u001b[0m\u001b[1;32m    300\u001b[0m \u001b[0;34m\u001b[0m\u001b[0m\n\u001b[1;32m    301\u001b[0m         \u001b[0;32mreturn\u001b[0m \u001b[0mwrapper\u001b[0m\u001b[0;34m\u001b[0m\u001b[0;34m\u001b[0m\u001b[0m\n",
      "\u001b[0;32m~/development/cafe_com_analytics/wb_indicator/.venv/lib/python3.8/site-packages/pandas/io/json/_json.py\u001b[0m in \u001b[0;36mread_json\u001b[0;34m(path_or_buf, orient, typ, dtype, convert_axes, convert_dates, keep_default_dates, numpy, precise_float, date_unit, encoding, lines, chunksize, compression, nrows, storage_options)\u001b[0m\n\u001b[1;32m    561\u001b[0m \u001b[0;34m\u001b[0m\u001b[0m\n\u001b[1;32m    562\u001b[0m     \u001b[0;32mwith\u001b[0m \u001b[0mjson_reader\u001b[0m\u001b[0;34m:\u001b[0m\u001b[0;34m\u001b[0m\u001b[0;34m\u001b[0m\u001b[0m\n\u001b[0;32m--> 563\u001b[0;31m         \u001b[0;32mreturn\u001b[0m \u001b[0mjson_reader\u001b[0m\u001b[0;34m.\u001b[0m\u001b[0mread\u001b[0m\u001b[0;34m(\u001b[0m\u001b[0;34m)\u001b[0m\u001b[0;34m\u001b[0m\u001b[0;34m\u001b[0m\u001b[0m\n\u001b[0m\u001b[1;32m    564\u001b[0m \u001b[0;34m\u001b[0m\u001b[0m\n\u001b[1;32m    565\u001b[0m \u001b[0;34m\u001b[0m\u001b[0m\n",
      "\u001b[0;32m~/development/cafe_com_analytics/wb_indicator/.venv/lib/python3.8/site-packages/pandas/io/json/_json.py\u001b[0m in \u001b[0;36mread\u001b[0;34m(self)\u001b[0m\n\u001b[1;32m    692\u001b[0m                 \u001b[0mobj\u001b[0m \u001b[0;34m=\u001b[0m \u001b[0mself\u001b[0m\u001b[0;34m.\u001b[0m\u001b[0m_get_object_parser\u001b[0m\u001b[0;34m(\u001b[0m\u001b[0mself\u001b[0m\u001b[0;34m.\u001b[0m\u001b[0m_combine_lines\u001b[0m\u001b[0;34m(\u001b[0m\u001b[0mdata_lines\u001b[0m\u001b[0;34m)\u001b[0m\u001b[0;34m)\u001b[0m\u001b[0;34m\u001b[0m\u001b[0;34m\u001b[0m\u001b[0m\n\u001b[1;32m    693\u001b[0m         \u001b[0;32melse\u001b[0m\u001b[0;34m:\u001b[0m\u001b[0;34m\u001b[0m\u001b[0;34m\u001b[0m\u001b[0m\n\u001b[0;32m--> 694\u001b[0;31m             \u001b[0mobj\u001b[0m \u001b[0;34m=\u001b[0m \u001b[0mself\u001b[0m\u001b[0;34m.\u001b[0m\u001b[0m_get_object_parser\u001b[0m\u001b[0;34m(\u001b[0m\u001b[0mself\u001b[0m\u001b[0;34m.\u001b[0m\u001b[0mdata\u001b[0m\u001b[0;34m)\u001b[0m\u001b[0;34m\u001b[0m\u001b[0;34m\u001b[0m\u001b[0m\n\u001b[0m\u001b[1;32m    695\u001b[0m         \u001b[0mself\u001b[0m\u001b[0;34m.\u001b[0m\u001b[0mclose\u001b[0m\u001b[0;34m(\u001b[0m\u001b[0;34m)\u001b[0m\u001b[0;34m\u001b[0m\u001b[0;34m\u001b[0m\u001b[0m\n\u001b[1;32m    696\u001b[0m         \u001b[0;32mreturn\u001b[0m \u001b[0mobj\u001b[0m\u001b[0;34m\u001b[0m\u001b[0;34m\u001b[0m\u001b[0m\n",
      "\u001b[0;32m~/development/cafe_com_analytics/wb_indicator/.venv/lib/python3.8/site-packages/pandas/io/json/_json.py\u001b[0m in \u001b[0;36m_get_object_parser\u001b[0;34m(self, json)\u001b[0m\n\u001b[1;32m    714\u001b[0m         \u001b[0mobj\u001b[0m \u001b[0;34m=\u001b[0m \u001b[0;32mNone\u001b[0m\u001b[0;34m\u001b[0m\u001b[0;34m\u001b[0m\u001b[0m\n\u001b[1;32m    715\u001b[0m         \u001b[0;32mif\u001b[0m \u001b[0mtyp\u001b[0m \u001b[0;34m==\u001b[0m \u001b[0;34m\"frame\"\u001b[0m\u001b[0;34m:\u001b[0m\u001b[0;34m\u001b[0m\u001b[0;34m\u001b[0m\u001b[0m\n\u001b[0;32m--> 716\u001b[0;31m             \u001b[0mobj\u001b[0m \u001b[0;34m=\u001b[0m \u001b[0mFrameParser\u001b[0m\u001b[0;34m(\u001b[0m\u001b[0mjson\u001b[0m\u001b[0;34m,\u001b[0m \u001b[0;34m**\u001b[0m\u001b[0mkwargs\u001b[0m\u001b[0;34m)\u001b[0m\u001b[0;34m.\u001b[0m\u001b[0mparse\u001b[0m\u001b[0;34m(\u001b[0m\u001b[0;34m)\u001b[0m\u001b[0;34m\u001b[0m\u001b[0;34m\u001b[0m\u001b[0m\n\u001b[0m\u001b[1;32m    717\u001b[0m \u001b[0;34m\u001b[0m\u001b[0m\n\u001b[1;32m    718\u001b[0m         \u001b[0;32mif\u001b[0m \u001b[0mtyp\u001b[0m \u001b[0;34m==\u001b[0m \u001b[0;34m\"series\"\u001b[0m \u001b[0;32mor\u001b[0m \u001b[0mobj\u001b[0m \u001b[0;32mis\u001b[0m \u001b[0;32mNone\u001b[0m\u001b[0;34m:\u001b[0m\u001b[0;34m\u001b[0m\u001b[0;34m\u001b[0m\u001b[0m\n",
      "\u001b[0;32m~/development/cafe_com_analytics/wb_indicator/.venv/lib/python3.8/site-packages/pandas/io/json/_json.py\u001b[0m in \u001b[0;36mparse\u001b[0;34m(self)\u001b[0m\n\u001b[1;32m    829\u001b[0m \u001b[0;34m\u001b[0m\u001b[0m\n\u001b[1;32m    830\u001b[0m         \u001b[0;32melse\u001b[0m\u001b[0;34m:\u001b[0m\u001b[0;34m\u001b[0m\u001b[0;34m\u001b[0m\u001b[0m\n\u001b[0;32m--> 831\u001b[0;31m             \u001b[0mself\u001b[0m\u001b[0;34m.\u001b[0m\u001b[0m_parse_no_numpy\u001b[0m\u001b[0;34m(\u001b[0m\u001b[0;34m)\u001b[0m\u001b[0;34m\u001b[0m\u001b[0;34m\u001b[0m\u001b[0m\n\u001b[0m\u001b[1;32m    832\u001b[0m \u001b[0;34m\u001b[0m\u001b[0m\n\u001b[1;32m    833\u001b[0m         \u001b[0;32mif\u001b[0m \u001b[0mself\u001b[0m\u001b[0;34m.\u001b[0m\u001b[0mobj\u001b[0m \u001b[0;32mis\u001b[0m \u001b[0;32mNone\u001b[0m\u001b[0;34m:\u001b[0m\u001b[0;34m\u001b[0m\u001b[0;34m\u001b[0m\u001b[0m\n",
      "\u001b[0;32m~/development/cafe_com_analytics/wb_indicator/.venv/lib/python3.8/site-packages/pandas/io/json/_json.py\u001b[0m in \u001b[0;36m_parse_no_numpy\u001b[0;34m(self)\u001b[0m\n\u001b[1;32m   1077\u001b[0m         \u001b[0;32mif\u001b[0m \u001b[0morient\u001b[0m \u001b[0;34m==\u001b[0m \u001b[0;34m\"columns\"\u001b[0m\u001b[0;34m:\u001b[0m\u001b[0;34m\u001b[0m\u001b[0;34m\u001b[0m\u001b[0m\n\u001b[1;32m   1078\u001b[0m             self.obj = DataFrame(\n\u001b[0;32m-> 1079\u001b[0;31m                 \u001b[0mloads\u001b[0m\u001b[0;34m(\u001b[0m\u001b[0mjson\u001b[0m\u001b[0;34m,\u001b[0m \u001b[0mprecise_float\u001b[0m\u001b[0;34m=\u001b[0m\u001b[0mself\u001b[0m\u001b[0;34m.\u001b[0m\u001b[0mprecise_float\u001b[0m\u001b[0;34m)\u001b[0m\u001b[0;34m,\u001b[0m \u001b[0mdtype\u001b[0m\u001b[0;34m=\u001b[0m\u001b[0;32mNone\u001b[0m\u001b[0;34m\u001b[0m\u001b[0;34m\u001b[0m\u001b[0m\n\u001b[0m\u001b[1;32m   1080\u001b[0m             )\n\u001b[1;32m   1081\u001b[0m         \u001b[0;32melif\u001b[0m \u001b[0morient\u001b[0m \u001b[0;34m==\u001b[0m \u001b[0;34m\"split\"\u001b[0m\u001b[0;34m:\u001b[0m\u001b[0;34m\u001b[0m\u001b[0;34m\u001b[0m\u001b[0m\n",
      "\u001b[0;31mValueError\u001b[0m: Expected object or value"
     ]
    }
   ],
   "source": [
    "bc_code = '1207'\n",
    "url_bc = \"http://api.bcb.gov.br/dados/serie/bcdata.sgs.24363/dados?formato=json\"+bc_code\n",
    "\n",
    "df_pib = pd.read_json(url)\n",
    "df_pib.head()\n"
   ]
  },
  {
   "cell_type": "code",
   "execution_count": null,
   "metadata": {},
   "outputs": [],
   "source": []
  }
 ]
}