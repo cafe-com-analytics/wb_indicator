{
 "metadata": {
  "language_info": {
   "codemirror_mode": {
    "name": "ipython",
    "version": 3
   },
   "file_extension": ".py",
   "mimetype": "text/x-python",
   "name": "python",
   "nbconvert_exporter": "python",
   "pygments_lexer": "ipython3",
   "version": "3.8.5-final"
  },
  "orig_nbformat": 2,
  "kernelspec": {
   "name": "python3",
   "display_name": "Python 3.8.5 64-bit ('.venv': pipenv)",
   "metadata": {
    "interpreter": {
     "hash": "90999dcf09c5b63b6f6f074f1f57990bf311b13a8cac958f77ad027e3d7ebc21"
    }
   }
  }
 },
 "nbformat": 4,
 "nbformat_minor": 2,
 "cells": [
  {
   "source": [
    "# Data Acquisition"
   ],
   "cell_type": "markdown",
   "metadata": {}
  },
  {
   "cell_type": "code",
   "execution_count": 1,
   "metadata": {},
   "outputs": [],
   "source": [
    "import pandas as pd\n",
    "import yfinance as yf\n",
    "\n",
    "URL = \"https://www.oceans14.com.br/acoes/\"\n",
    "# df_tickers = pd.read_html(URL)\n",
    "# df_tickers.head()"
   ]
  },
  {
   "source": [
    "*ATENÇÃO*\n",
    "Não foi possível raspar o site.\n",
    "Usarei a lista que obtivemos anteriormente."
   ],
   "cell_type": "markdown",
   "metadata": {}
  },
  {
   "cell_type": "code",
   "execution_count": 2,
   "metadata": {},
   "outputs": [
    {
     "output_type": "stream",
     "name": "stdout",
     "text": [
      "[*********************100%***********************]  2 of 2 completed\n",
      "[*********************100%***********************]  1 of 1 completed\n"
     ]
    }
   ],
   "source": [
    "data01 = yf.download([\"ITUB4.SA\",\"AAPL\"], start=\"2021-01-01\", end=\"2021-03-01\")\n",
    "data02 = yf.download(\"AAPL\", start=\"2021-01-01\", end=\"2021-03-01\")"
   ]
  },
  {
   "source": [
    "data01.head()"
   ],
   "cell_type": "code",
   "metadata": {},
   "execution_count": 6,
   "outputs": [
    {
     "output_type": "execute_result",
     "data": {
      "text/plain": [
       "             Adj Close                  Close                   High  \\\n",
       "                  AAPL   ITUB4.SA        AAPL   ITUB4.SA        AAPL   \n",
       "Date                                                                   \n",
       "2021-01-04  129.216919  30.638491  129.410004  30.900000  133.610001   \n",
       "2021-01-05  130.814514  30.440186  131.009995  30.700001  131.740005   \n",
       "2021-01-06  126.411102  31.332567  126.599998  31.600000  131.050003   \n",
       "2021-01-07  130.724655  32.552158  130.919998  32.830002  131.630005   \n",
       "2021-01-08  131.852966  32.542244  132.050003  32.820000  132.630005   \n",
       "\n",
       "                              Low                   Open           \\\n",
       "             ITUB4.SA        AAPL   ITUB4.SA        AAPL ITUB4.SA   \n",
       "Date                                                                \n",
       "2021-01-04  31.990000  126.760002  30.840000  133.520004    31.98   \n",
       "2021-01-05  31.059999  128.429993  30.170000  128.889999    30.73   \n",
       "2021-01-06  32.060001  126.379997  30.790001  127.720001    30.98   \n",
       "2021-01-07  33.060001  127.860001  31.500000  128.360001    31.65   \n",
       "2021-01-08  33.439999  130.229996  32.430000  132.429993    32.93   \n",
       "\n",
       "                 Volume              \n",
       "                   AAPL    ITUB4.SA  \n",
       "Date                                 \n",
       "2021-01-04  143301900.0  31347800.0  \n",
       "2021-01-05   97664900.0  28249800.0  \n",
       "2021-01-06  155088000.0  43061900.0  \n",
       "2021-01-07  109578200.0  46129800.0  \n",
       "2021-01-08  105158200.0  52532500.0  "
      ],
      "text/html": "<div>\n<style scoped>\n    .dataframe tbody tr th:only-of-type {\n        vertical-align: middle;\n    }\n\n    .dataframe tbody tr th {\n        vertical-align: top;\n    }\n\n    .dataframe thead tr th {\n        text-align: left;\n    }\n\n    .dataframe thead tr:last-of-type th {\n        text-align: right;\n    }\n</style>\n<table border=\"1\" class=\"dataframe\">\n  <thead>\n    <tr>\n      <th></th>\n      <th colspan=\"2\" halign=\"left\">Adj Close</th>\n      <th colspan=\"2\" halign=\"left\">Close</th>\n      <th colspan=\"2\" halign=\"left\">High</th>\n      <th colspan=\"2\" halign=\"left\">Low</th>\n      <th colspan=\"2\" halign=\"left\">Open</th>\n      <th colspan=\"2\" halign=\"left\">Volume</th>\n    </tr>\n    <tr>\n      <th></th>\n      <th>AAPL</th>\n      <th>ITUB4.SA</th>\n      <th>AAPL</th>\n      <th>ITUB4.SA</th>\n      <th>AAPL</th>\n      <th>ITUB4.SA</th>\n      <th>AAPL</th>\n      <th>ITUB4.SA</th>\n      <th>AAPL</th>\n      <th>ITUB4.SA</th>\n      <th>AAPL</th>\n      <th>ITUB4.SA</th>\n    </tr>\n    <tr>\n      <th>Date</th>\n      <th></th>\n      <th></th>\n      <th></th>\n      <th></th>\n      <th></th>\n      <th></th>\n      <th></th>\n      <th></th>\n      <th></th>\n      <th></th>\n      <th></th>\n      <th></th>\n    </tr>\n  </thead>\n  <tbody>\n    <tr>\n      <th>2021-01-04</th>\n      <td>129.216919</td>\n      <td>30.638491</td>\n      <td>129.410004</td>\n      <td>30.900000</td>\n      <td>133.610001</td>\n      <td>31.990000</td>\n      <td>126.760002</td>\n      <td>30.840000</td>\n      <td>133.520004</td>\n      <td>31.98</td>\n      <td>143301900.0</td>\n      <td>31347800.0</td>\n    </tr>\n    <tr>\n      <th>2021-01-05</th>\n      <td>130.814514</td>\n      <td>30.440186</td>\n      <td>131.009995</td>\n      <td>30.700001</td>\n      <td>131.740005</td>\n      <td>31.059999</td>\n      <td>128.429993</td>\n      <td>30.170000</td>\n      <td>128.889999</td>\n      <td>30.73</td>\n      <td>97664900.0</td>\n      <td>28249800.0</td>\n    </tr>\n    <tr>\n      <th>2021-01-06</th>\n      <td>126.411102</td>\n      <td>31.332567</td>\n      <td>126.599998</td>\n      <td>31.600000</td>\n      <td>131.050003</td>\n      <td>32.060001</td>\n      <td>126.379997</td>\n      <td>30.790001</td>\n      <td>127.720001</td>\n      <td>30.98</td>\n      <td>155088000.0</td>\n      <td>43061900.0</td>\n    </tr>\n    <tr>\n      <th>2021-01-07</th>\n      <td>130.724655</td>\n      <td>32.552158</td>\n      <td>130.919998</td>\n      <td>32.830002</td>\n      <td>131.630005</td>\n      <td>33.060001</td>\n      <td>127.860001</td>\n      <td>31.500000</td>\n      <td>128.360001</td>\n      <td>31.65</td>\n      <td>109578200.0</td>\n      <td>46129800.0</td>\n    </tr>\n    <tr>\n      <th>2021-01-08</th>\n      <td>131.852966</td>\n      <td>32.542244</td>\n      <td>132.050003</td>\n      <td>32.820000</td>\n      <td>132.630005</td>\n      <td>33.439999</td>\n      <td>130.229996</td>\n      <td>32.430000</td>\n      <td>132.429993</td>\n      <td>32.93</td>\n      <td>105158200.0</td>\n      <td>52532500.0</td>\n    </tr>\n  </tbody>\n</table>\n</div>"
     },
     "metadata": {},
     "execution_count": 6
    }
   ]
  },
  {
   "cell_type": "code",
   "execution_count": 16,
   "metadata": {},
   "outputs": [
    {
     "output_type": "stream",
     "name": "stdout",
     "text": [
      "[*********************100%***********************]  83 of 83 completed\n"
     ]
    },
    {
     "output_type": "execute_result",
     "data": {
      "text/plain": [
       "            ABEV3.SA  AZUL4.SA  B3SA3.SA  BBAS3.SA  BBDC3.SA  BBDC4.SA  \\\n",
       "Date                                                                     \n",
       "2021-01-04     15.48     37.73     60.98     37.59     23.60     26.43   \n",
       "2021-01-05     15.81     38.20     61.10     37.20     23.47     26.25   \n",
       "2021-01-06     16.13     36.67     60.10     38.05     24.06     27.12   \n",
       "2021-01-07     16.05     36.05     61.78     39.56     24.65     27.84   \n",
       "2021-01-08     16.53     36.60     62.69     39.79     24.46     27.60   \n",
       "\n",
       "            BBSE3.SA  BEEF3.SA  BPAC11.SA  BRAP4.SA  ...  TOTS3.SA  UGPA3.SA  \\\n",
       "Date                                                 ...                       \n",
       "2021-01-04     29.39     10.04      93.08     66.50  ...     27.76     24.12   \n",
       "2021-01-05     28.84      9.84      92.38     67.80  ...     27.63     23.92   \n",
       "2021-01-06     28.37      9.70      89.40     71.00  ...     26.32     23.63   \n",
       "2021-01-07     28.97      9.65      89.34     76.38  ...     26.25     24.35   \n",
       "2021-01-08     29.87      9.73      92.17     76.77  ...     28.00     24.98   \n",
       "\n",
       "            USIM5.SA  VALE3.SA  VIVT3.SA  VVAR3.SA  WEGE3.SA  YDUQ3.SA  \\\n",
       "Date                                                                     \n",
       "2021-01-04     14.94     91.46     45.94     16.17     74.62     34.00   \n",
       "2021-01-05     15.10     93.00     45.55     16.22     79.20     34.17   \n",
       "2021-01-06     15.83     96.05     45.04     15.49     81.30     32.81   \n",
       "2021-01-07     16.59    102.32     43.90     15.08     84.66     33.22   \n",
       "2021-01-08     16.51    102.00     45.05     15.53     89.78     34.35   \n",
       "\n",
       "               ^BVSP    ^IBX50  \n",
       "Date                            \n",
       "2021-01-04  118558.0  19604.95  \n",
       "2021-01-05  119223.0  19760.08  \n",
       "2021-01-06  119851.0  19958.27  \n",
       "2021-01-07  121956.0  20436.20  \n",
       "2021-01-08  125077.0  20897.47  \n",
       "\n",
       "[5 rows x 83 columns]"
      ],
      "text/html": "<div>\n<style scoped>\n    .dataframe tbody tr th:only-of-type {\n        vertical-align: middle;\n    }\n\n    .dataframe tbody tr th {\n        vertical-align: top;\n    }\n\n    .dataframe thead th {\n        text-align: right;\n    }\n</style>\n<table border=\"1\" class=\"dataframe\">\n  <thead>\n    <tr style=\"text-align: right;\">\n      <th></th>\n      <th>ABEV3.SA</th>\n      <th>AZUL4.SA</th>\n      <th>B3SA3.SA</th>\n      <th>BBAS3.SA</th>\n      <th>BBDC3.SA</th>\n      <th>BBDC4.SA</th>\n      <th>BBSE3.SA</th>\n      <th>BEEF3.SA</th>\n      <th>BPAC11.SA</th>\n      <th>BRAP4.SA</th>\n      <th>...</th>\n      <th>TOTS3.SA</th>\n      <th>UGPA3.SA</th>\n      <th>USIM5.SA</th>\n      <th>VALE3.SA</th>\n      <th>VIVT3.SA</th>\n      <th>VVAR3.SA</th>\n      <th>WEGE3.SA</th>\n      <th>YDUQ3.SA</th>\n      <th>^BVSP</th>\n      <th>^IBX50</th>\n    </tr>\n    <tr>\n      <th>Date</th>\n      <th></th>\n      <th></th>\n      <th></th>\n      <th></th>\n      <th></th>\n      <th></th>\n      <th></th>\n      <th></th>\n      <th></th>\n      <th></th>\n      <th></th>\n      <th></th>\n      <th></th>\n      <th></th>\n      <th></th>\n      <th></th>\n      <th></th>\n      <th></th>\n      <th></th>\n      <th></th>\n      <th></th>\n    </tr>\n  </thead>\n  <tbody>\n    <tr>\n      <th>2021-01-04</th>\n      <td>15.48</td>\n      <td>37.73</td>\n      <td>60.98</td>\n      <td>37.59</td>\n      <td>23.60</td>\n      <td>26.43</td>\n      <td>29.39</td>\n      <td>10.04</td>\n      <td>93.08</td>\n      <td>66.50</td>\n      <td>...</td>\n      <td>27.76</td>\n      <td>24.12</td>\n      <td>14.94</td>\n      <td>91.46</td>\n      <td>45.94</td>\n      <td>16.17</td>\n      <td>74.62</td>\n      <td>34.00</td>\n      <td>118558.0</td>\n      <td>19604.95</td>\n    </tr>\n    <tr>\n      <th>2021-01-05</th>\n      <td>15.81</td>\n      <td>38.20</td>\n      <td>61.10</td>\n      <td>37.20</td>\n      <td>23.47</td>\n      <td>26.25</td>\n      <td>28.84</td>\n      <td>9.84</td>\n      <td>92.38</td>\n      <td>67.80</td>\n      <td>...</td>\n      <td>27.63</td>\n      <td>23.92</td>\n      <td>15.10</td>\n      <td>93.00</td>\n      <td>45.55</td>\n      <td>16.22</td>\n      <td>79.20</td>\n      <td>34.17</td>\n      <td>119223.0</td>\n      <td>19760.08</td>\n    </tr>\n    <tr>\n      <th>2021-01-06</th>\n      <td>16.13</td>\n      <td>36.67</td>\n      <td>60.10</td>\n      <td>38.05</td>\n      <td>24.06</td>\n      <td>27.12</td>\n      <td>28.37</td>\n      <td>9.70</td>\n      <td>89.40</td>\n      <td>71.00</td>\n      <td>...</td>\n      <td>26.32</td>\n      <td>23.63</td>\n      <td>15.83</td>\n      <td>96.05</td>\n      <td>45.04</td>\n      <td>15.49</td>\n      <td>81.30</td>\n      <td>32.81</td>\n      <td>119851.0</td>\n      <td>19958.27</td>\n    </tr>\n    <tr>\n      <th>2021-01-07</th>\n      <td>16.05</td>\n      <td>36.05</td>\n      <td>61.78</td>\n      <td>39.56</td>\n      <td>24.65</td>\n      <td>27.84</td>\n      <td>28.97</td>\n      <td>9.65</td>\n      <td>89.34</td>\n      <td>76.38</td>\n      <td>...</td>\n      <td>26.25</td>\n      <td>24.35</td>\n      <td>16.59</td>\n      <td>102.32</td>\n      <td>43.90</td>\n      <td>15.08</td>\n      <td>84.66</td>\n      <td>33.22</td>\n      <td>121956.0</td>\n      <td>20436.20</td>\n    </tr>\n    <tr>\n      <th>2021-01-08</th>\n      <td>16.53</td>\n      <td>36.60</td>\n      <td>62.69</td>\n      <td>39.79</td>\n      <td>24.46</td>\n      <td>27.60</td>\n      <td>29.87</td>\n      <td>9.73</td>\n      <td>92.17</td>\n      <td>76.77</td>\n      <td>...</td>\n      <td>28.00</td>\n      <td>24.98</td>\n      <td>16.51</td>\n      <td>102.00</td>\n      <td>45.05</td>\n      <td>15.53</td>\n      <td>89.78</td>\n      <td>34.35</td>\n      <td>125077.0</td>\n      <td>20897.47</td>\n    </tr>\n  </tbody>\n</table>\n<p>5 rows × 83 columns</p>\n</div>"
     },
     "metadata": {},
     "execution_count": 16
    }
   ],
   "source": [
    "try:\n",
    "    from src.data_acquisition.collect_tickers_data import TickersCollector, DataCollector\n",
    "except:\n",
    "    os.chdir('../')\n",
    "    from src.data_acquisition.collect_tickers_data import TickersCollector, DataCollector\n",
    "\n",
    "tickers = TickersCollector(market='br', symbols_list=['ITUB4.SA'], qty=81)\n",
    "tickers.add_market()\n",
    "lst_tickers = tickers.show_tickers()\n",
    "data_collector = DataCollector(symbols_list=lst_tickers, start_date='2021-01-01', end_date='2021-03-01')\n",
    "\n",
    "chart_data = data_collector.get_data(data_type=\"Close\")\n",
    "chart_data = chart_data.round(2)\n",
    "chart_data.head()"
   ]
  },
  {
   "cell_type": "code",
   "execution_count": 17,
   "metadata": {},
   "outputs": [
    {
     "output_type": "execute_result",
     "data": {
      "text/plain": [
       "Index(['ABEV3.SA', 'AZUL4.SA', 'B3SA3.SA', 'BBAS3.SA', 'BBDC3.SA', 'BBDC4.SA',\n",
       "       'BBSE3.SA', 'BEEF3.SA', 'BPAC11.SA', 'BRAP4.SA', 'BRDT3.SA', 'BRFS3.SA',\n",
       "       'BRKM5.SA', 'BRML3.SA', 'BTOW3.SA', 'CCRO3.SA', 'CIEL3.SA', 'CMIG4.SA',\n",
       "       'COGN3.SA', 'CPFE3.SA', 'CPLE6.SA', 'CRFB3.SA', 'CSAN3.SA', 'CSNA3.SA',\n",
       "       'CVCB3.SA', 'CYRE3.SA', 'ECOR3.SA', 'EGIE3.SA', 'ELET3.SA', 'ELET6.SA',\n",
       "       'EMBR3.SA', 'ENBR3.SA', 'ENEV3.SA', 'ENGI11.SA', 'EQTL3.SA', 'EZTC3.SA',\n",
       "       'FLRY3.SA', 'GGBR4.SA', 'GNDI3.SA', 'GOAU4.SA', 'GOLL4.SA', 'HAPV3.SA',\n",
       "       'HGTX3.SA', 'HYPE3.SA', 'IGTA3.SA', 'IRBR3.SA', 'ITSA4.SA', 'ITUB4.SA',\n",
       "       'JBSS3.SA', 'JHSF3.SA', 'KLBN11.SA', 'LAME4.SA', 'LCAM3.SA', 'LREN3.SA',\n",
       "       'MGLU3.SA', 'MRFG3.SA', 'MRVE3.SA', 'MULT3.SA', 'NTCO3.SA', 'PCAR3.SA',\n",
       "       'PETR3.SA', 'PETR4.SA', 'PRIO3.SA', 'QUAL3.SA', 'RADL3.SA', 'RAIL3.SA',\n",
       "       'RENT3.SA', 'SANB11.SA', 'SBSP3.SA', 'SULA11.SA', 'SUZB3.SA',\n",
       "       'TAEE11.SA', 'TIMS3.SA', 'TOTS3.SA', 'UGPA3.SA', 'USIM5.SA', 'VALE3.SA',\n",
       "       'VIVT3.SA', 'VVAR3.SA', 'WEGE3.SA', 'YDUQ3.SA', '^BVSP', '^IBX50'],\n",
       "      dtype='object')"
      ]
     },
     "metadata": {},
     "execution_count": 17
    }
   ],
   "source": [
    "chart_data.columns"
   ]
  },
  {
   "cell_type": "code",
   "execution_count": null,
   "metadata": {},
   "outputs": [],
   "source": [
    "chart_data.head()"
   ]
  }
 ]
}