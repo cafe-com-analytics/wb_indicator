{
 "metadata": {
  "language_info": {
   "codemirror_mode": {
    "name": "ipython",
    "version": 3
   },
   "file_extension": ".py",
   "mimetype": "text/x-python",
   "name": "python",
   "nbconvert_exporter": "python",
   "pygments_lexer": "ipython3",
   "version": "3.8.5-final"
  },
  "orig_nbformat": 2,
  "kernelspec": {
   "name": "python3",
   "display_name": "Python 3.8.5 64-bit ('wb_indicator': pipenv)",
   "metadata": {
    "interpreter": {
     "hash": "90999dcf09c5b63b6f6f074f1f57990bf311b13a8cac958f77ad027e3d7ebc21"
    }
   }
  }
 },
 "nbformat": 4,
 "nbformat_minor": 2,
 "cells": [
  {
   "source": [
    "# Data Acquisition"
   ],
   "cell_type": "markdown",
   "metadata": {}
  },
  {
   "cell_type": "code",
   "execution_count": 1,
   "metadata": {},
   "outputs": [],
   "source": [
    "import matplotlib\n",
    "import pandas as pd\n",
    "import seaborn as sns\n",
    "\n",
    "\n",
    "\n",
    "import yfinance as yf\n",
    "\n",
    "URL = \"https://www.oceans14.com.br/acoes/\"\n",
    "# df_tickers = pd.read_html(URL)\n",
    "# df_tickers.head()"
   ]
  },
  {
   "source": [
    "*ATENÇÃO*\n",
    "Não foi possível raspar o site.\n",
    "Usarei a lista que obtivemos anteriormente."
   ],
   "cell_type": "markdown",
   "metadata": {}
  },
  {
   "cell_type": "code",
   "execution_count": 8,
   "metadata": {},
   "outputs": [
    {
     "output_type": "stream",
     "name": "stdout",
     "text": [
      "[*********************100%***********************]  2 of 2 completed\n",
      "[*********************100%***********************]  1 of 1 completed\n"
     ]
    },
    {
     "output_type": "execute_result",
     "data": {
      "text/plain": [
       "             Adj Close                  Close                   High  \\\n",
       "                  AAPL   ITUB4.SA        AAPL   ITUB4.SA        AAPL   \n",
       "Date                                                                   \n",
       "2021-03-22  123.389999  28.318043  123.389999  28.370001  123.870003   \n",
       "2021-03-23  122.540001  27.599360  122.540001  27.650000  124.239998   \n",
       "\n",
       "                              Low                   Open              Volume  \\\n",
       "             ITUB4.SA        AAPL   ITUB4.SA        AAPL ITUB4.SA       AAPL   \n",
       "Date                                                                           \n",
       "2021-03-22  28.379999  120.260002  27.500000  120.330002    27.99  111912300   \n",
       "2021-03-23  28.520000  122.139999  27.639999  123.330002    28.00   95467100   \n",
       "\n",
       "                      \n",
       "            ITUB4.SA  \n",
       "Date                  \n",
       "2021-03-22  35786900  \n",
       "2021-03-23  31711800  "
      ],
      "text/html": "<div>\n<style scoped>\n    .dataframe tbody tr th:only-of-type {\n        vertical-align: middle;\n    }\n\n    .dataframe tbody tr th {\n        vertical-align: top;\n    }\n\n    .dataframe thead tr th {\n        text-align: left;\n    }\n\n    .dataframe thead tr:last-of-type th {\n        text-align: right;\n    }\n</style>\n<table border=\"1\" class=\"dataframe\">\n  <thead>\n    <tr>\n      <th></th>\n      <th colspan=\"2\" halign=\"left\">Adj Close</th>\n      <th colspan=\"2\" halign=\"left\">Close</th>\n      <th colspan=\"2\" halign=\"left\">High</th>\n      <th colspan=\"2\" halign=\"left\">Low</th>\n      <th colspan=\"2\" halign=\"left\">Open</th>\n      <th colspan=\"2\" halign=\"left\">Volume</th>\n    </tr>\n    <tr>\n      <th></th>\n      <th>AAPL</th>\n      <th>ITUB4.SA</th>\n      <th>AAPL</th>\n      <th>ITUB4.SA</th>\n      <th>AAPL</th>\n      <th>ITUB4.SA</th>\n      <th>AAPL</th>\n      <th>ITUB4.SA</th>\n      <th>AAPL</th>\n      <th>ITUB4.SA</th>\n      <th>AAPL</th>\n      <th>ITUB4.SA</th>\n    </tr>\n    <tr>\n      <th>Date</th>\n      <th></th>\n      <th></th>\n      <th></th>\n      <th></th>\n      <th></th>\n      <th></th>\n      <th></th>\n      <th></th>\n      <th></th>\n      <th></th>\n      <th></th>\n      <th></th>\n    </tr>\n  </thead>\n  <tbody>\n    <tr>\n      <th>2021-03-22</th>\n      <td>123.389999</td>\n      <td>28.318043</td>\n      <td>123.389999</td>\n      <td>28.370001</td>\n      <td>123.870003</td>\n      <td>28.379999</td>\n      <td>120.260002</td>\n      <td>27.500000</td>\n      <td>120.330002</td>\n      <td>27.99</td>\n      <td>111912300</td>\n      <td>35786900</td>\n    </tr>\n    <tr>\n      <th>2021-03-23</th>\n      <td>122.540001</td>\n      <td>27.599360</td>\n      <td>122.540001</td>\n      <td>27.650000</td>\n      <td>124.239998</td>\n      <td>28.520000</td>\n      <td>122.139999</td>\n      <td>27.639999</td>\n      <td>123.330002</td>\n      <td>28.00</td>\n      <td>95467100</td>\n      <td>31711800</td>\n    </tr>\n  </tbody>\n</table>\n</div>"
     },
     "metadata": {},
     "execution_count": 8
    }
   ],
   "source": [
    "data01 = yf.download([\"ITUB4.SA\",\"AAPL\"], start=\"2021-03-22\", end=\"2021-03-24\")\n",
    "data02 = yf.download(\"AAPL\", start=\"2021-01-01\", end=\"2021-03-01\")\n",
    "\n",
    "data01"
   ]
  },
  {
   "cell_type": "code",
   "execution_count": 15,
   "metadata": {},
   "outputs": [
    {
     "output_type": "stream",
     "name": "stdout",
     "text": [
      "[*********************100%***********************]  2 of 2 completed\n",
      "            AZUL4.SA  ITUB4.SA\n",
      "Date                          \n",
      "2021-03-22     39.43     28.37\n",
      "2021-03-23     36.75     27.65\n",
      "2021-03-24     36.53     27.17\n",
      "2021-03-25     37.21     27.65\n",
      "2021-03-26     37.37     28.07\n",
      "\n",
      "\n",
      "            AZUL4.SA  ITUB4.SA\n",
      "Date                          \n",
      "2021-03-22  1.000000  1.000000\n",
      "2021-03-23  0.932031  0.974621\n",
      "2021-03-24  0.926452  0.957702\n",
      "2021-03-25  0.943698  0.974621\n",
      "2021-03-26  0.947756  0.989425\n"
     ]
    }
   ],
   "source": [
    "try:\n",
    "    from src.data_acquisition.collect_tickers_data import TickersCollector, DataCollector\n",
    "except:\n",
    "    os.chdir('../')\n",
    "    from src.data_acquisition.collect_tickers_data import TickersCollector, DataCollector\n",
    "\n",
    "tickers = TickersCollector(market='br', symbols_list=['ITUB4.SA', 'AZUL4.SA'], qty=1)\n",
    "lst_tickers = tickers.show_tickers()\n",
    "data_collector = DataCollector(symbols_list=lst_tickers, start_date='2021-03-22', end_date='2021-03-27')\n",
    "\n",
    "chart_data = data_collector.get_data(data_type=\"Close\")\n",
    "chart_data = chart_data.round(2)\n",
    "chart_data_normalised = chart_data/chart_data.iloc[0]\n",
    "\n",
    "print(chart_data.head())\n",
    "print(\"\\n\")\n",
    "print(chart_data_normalised.head())"
   ]
  },
  {
   "cell_type": "code",
   "execution_count": 16,
   "metadata": {},
   "outputs": [
    {
     "output_type": "execute_result",
     "data": {
      "text/plain": [
       "        Date index(es)  return(s)\n",
       "0 2021-03-22  AZUL4.SA   1.000000\n",
       "1 2021-03-23  AZUL4.SA   0.932031\n",
       "2 2021-03-24  AZUL4.SA   0.926452\n",
       "3 2021-03-25  AZUL4.SA   0.943698\n",
       "4 2021-03-26  AZUL4.SA   0.947756\n",
       "5 2021-03-22  ITUB4.SA   1.000000\n",
       "6 2021-03-23  ITUB4.SA   0.974621\n",
       "7 2021-03-24  ITUB4.SA   0.957702\n",
       "8 2021-03-25  ITUB4.SA   0.974621\n",
       "9 2021-03-26  ITUB4.SA   0.989425"
      ],
      "text/html": "<div>\n<style scoped>\n    .dataframe tbody tr th:only-of-type {\n        vertical-align: middle;\n    }\n\n    .dataframe tbody tr th {\n        vertical-align: top;\n    }\n\n    .dataframe thead th {\n        text-align: right;\n    }\n</style>\n<table border=\"1\" class=\"dataframe\">\n  <thead>\n    <tr style=\"text-align: right;\">\n      <th></th>\n      <th>Date</th>\n      <th>index(es)</th>\n      <th>return(s)</th>\n    </tr>\n  </thead>\n  <tbody>\n    <tr>\n      <th>0</th>\n      <td>2021-03-22</td>\n      <td>AZUL4.SA</td>\n      <td>1.000000</td>\n    </tr>\n    <tr>\n      <th>1</th>\n      <td>2021-03-23</td>\n      <td>AZUL4.SA</td>\n      <td>0.932031</td>\n    </tr>\n    <tr>\n      <th>2</th>\n      <td>2021-03-24</td>\n      <td>AZUL4.SA</td>\n      <td>0.926452</td>\n    </tr>\n    <tr>\n      <th>3</th>\n      <td>2021-03-25</td>\n      <td>AZUL4.SA</td>\n      <td>0.943698</td>\n    </tr>\n    <tr>\n      <th>4</th>\n      <td>2021-03-26</td>\n      <td>AZUL4.SA</td>\n      <td>0.947756</td>\n    </tr>\n    <tr>\n      <th>5</th>\n      <td>2021-03-22</td>\n      <td>ITUB4.SA</td>\n      <td>1.000000</td>\n    </tr>\n    <tr>\n      <th>6</th>\n      <td>2021-03-23</td>\n      <td>ITUB4.SA</td>\n      <td>0.974621</td>\n    </tr>\n    <tr>\n      <th>7</th>\n      <td>2021-03-24</td>\n      <td>ITUB4.SA</td>\n      <td>0.957702</td>\n    </tr>\n    <tr>\n      <th>8</th>\n      <td>2021-03-25</td>\n      <td>ITUB4.SA</td>\n      <td>0.974621</td>\n    </tr>\n    <tr>\n      <th>9</th>\n      <td>2021-03-26</td>\n      <td>ITUB4.SA</td>\n      <td>0.989425</td>\n    </tr>\n  </tbody>\n</table>\n</div>"
     },
     "metadata": {},
     "execution_count": 16
    }
   ],
   "source": [
    "var_name = 'index(es)'\n",
    "value_name = 'return(s)'\n",
    "\n",
    "df = chart_data_normalised.reset_index()\n",
    "df = df.melt('Date', var_name=var_name, value_name=value_name)\n",
    "df.dropna(how='any', inplace=True)\n",
    "df.head(10)"
   ]
  },
  {
   "cell_type": "code",
   "execution_count": null,
   "metadata": {},
   "outputs": [],
   "source": [
    "var_name: str = 'index(es)', value_name: str = 'return(s)'"
   ]
  }
 ]
}