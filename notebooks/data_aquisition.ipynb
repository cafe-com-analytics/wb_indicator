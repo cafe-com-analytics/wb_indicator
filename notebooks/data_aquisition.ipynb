{
 "metadata": {
  "language_info": {
   "codemirror_mode": {
    "name": "ipython",
    "version": 3
   },
   "file_extension": ".py",
   "mimetype": "text/x-python",
   "name": "python",
   "nbconvert_exporter": "python",
   "pygments_lexer": "ipython3",
   "version": "3.8.5-final"
  },
  "orig_nbformat": 2,
  "kernelspec": {
   "name": "python3",
   "display_name": "Python 3.8.5 64-bit ('.venv': pipenv)",
   "metadata": {
    "interpreter": {
     "hash": "90999dcf09c5b63b6f6f074f1f57990bf311b13a8cac958f77ad027e3d7ebc21"
    }
   }
  }
 },
 "nbformat": 4,
 "nbformat_minor": 2,
 "cells": [
  {
   "source": [
    "# Data Acquisition"
   ],
   "cell_type": "markdown",
   "metadata": {}
  },
  {
   "cell_type": "code",
   "execution_count": 36,
   "metadata": {},
   "outputs": [],
   "source": [
    "import matplotlib\n",
    "import pandas as pd\n",
    "import seaborn as sns\n",
    "\n",
    "import yfinance as yf\n",
    "\n",
    "pd.options.display.float_format = \"{:,.2f}\".format"
   ]
  },
  {
   "source": [
    "*ATENÇÃO*\n",
    "Não foi possível raspar o site.\n",
    "Usarei a lista que obtivemos anteriormente."
   ],
   "cell_type": "markdown",
   "metadata": {}
  },
  {
   "cell_type": "code",
   "execution_count": 37,
   "metadata": {},
   "outputs": [
    {
     "output_type": "stream",
     "name": "stdout",
     "text": [
      "[*********************100%***********************]  1 of 1 completed\n"
     ]
    },
    {
     "output_type": "execute_result",
     "data": {
      "text/plain": [
       "                 Open       High        Low      Close  Adj Close   Volume  \\\n",
       "Date                                                                         \n",
       "2021-03-22 116,222.00 116,225.00 113,620.00 114,979.00 114,979.00  8160600   \n",
       "2021-03-23 114,977.00 115,599.00 113,062.00 113,262.00 113,262.00  8301500   \n",
       "\n",
       "                 market_value  \n",
       "Date                           \n",
       "2021-03-22 938,297,627,400.00  \n",
       "2021-03-23 940,244,493,000.00  "
      ],
      "text/html": "<div>\n<style scoped>\n    .dataframe tbody tr th:only-of-type {\n        vertical-align: middle;\n    }\n\n    .dataframe tbody tr th {\n        vertical-align: top;\n    }\n\n    .dataframe thead th {\n        text-align: right;\n    }\n</style>\n<table border=\"1\" class=\"dataframe\">\n  <thead>\n    <tr style=\"text-align: right;\">\n      <th></th>\n      <th>Open</th>\n      <th>High</th>\n      <th>Low</th>\n      <th>Close</th>\n      <th>Adj Close</th>\n      <th>Volume</th>\n      <th>market_value</th>\n    </tr>\n    <tr>\n      <th>Date</th>\n      <th></th>\n      <th></th>\n      <th></th>\n      <th></th>\n      <th></th>\n      <th></th>\n      <th></th>\n    </tr>\n  </thead>\n  <tbody>\n    <tr>\n      <th>2021-03-22</th>\n      <td>116,222.00</td>\n      <td>116,225.00</td>\n      <td>113,620.00</td>\n      <td>114,979.00</td>\n      <td>114,979.00</td>\n      <td>8160600</td>\n      <td>938,297,627,400.00</td>\n    </tr>\n    <tr>\n      <th>2021-03-23</th>\n      <td>114,977.00</td>\n      <td>115,599.00</td>\n      <td>113,062.00</td>\n      <td>113,262.00</td>\n      <td>113,262.00</td>\n      <td>8301500</td>\n      <td>940,244,493,000.00</td>\n    </tr>\n  </tbody>\n</table>\n</div>"
     },
     "metadata": {},
     "execution_count": 37
    }
   ],
   "source": [
    "data01 = yf.download([\"^BVSP\"], start=\"2021-03-22\", end=\"2021-03-24\")\n",
    "\n",
    "data01[\"market_value\"] = data01[\"Volume\"]*data01[\"Close\"]\n",
    "data01.head()\n",
    "\n",
    "data01"
   ]
  },
  {
   "cell_type": "code",
   "execution_count": 41,
   "metadata": {},
   "outputs": [
    {
     "output_type": "stream",
     "name": "stdout",
     "text": [
      "[*********************100%***********************]  2 of 2 completed\n",
      "            AZUL4.SA  ITUB4.SA\n",
      "Date                          \n",
      "2021-03-22     39.43     28.37\n",
      "2021-03-23     36.75     27.65\n",
      "2021-03-24     36.53     27.17\n",
      "2021-03-25     37.21     27.65\n",
      "2021-03-26     37.37     28.07\n",
      "\n",
      "\n",
      "            AZUL4.SA  ITUB4.SA\n",
      "Date                          \n",
      "2021-03-22      1.00      1.00\n",
      "2021-03-23      0.93      0.97\n",
      "2021-03-24      0.93      0.96\n",
      "2021-03-25      0.94      0.97\n",
      "2021-03-26      0.95      0.99\n"
     ]
    }
   ],
   "source": [
    "try:\n",
    "    from src.data_acquisition.collect_tickers_data import TickersCollector, DataCollector\n",
    "except:\n",
    "    os.chdir('../')\n",
    "    from src.data_acquisition.collect_tickers_data import TickersCollector, DataCollector\n",
    "\n",
    "tickers = TickersCollector(market='br', symbols_list=['ITUB4.SA', 'AZUL4.SA'], qty=1)\n",
    "lst_tickers = tickers.show_tickers()\n",
    "data_collector = DataCollector(symbols_list=lst_tickers, start_date='2021-03-22', end_date='2021-03-27')\n",
    "\n",
    "chart_data = data_collector.get_data(data_type=\"Close\")\n",
    "chart_data = chart_data.round(2)\n",
    "chart_data_normalised = chart_data/chart_data.iloc[0]\n",
    "\n",
    "print(chart_data.head())\n",
    "print(\"\\n\")\n",
    "print(chart_data_normalised.head())"
   ]
  },
  {
   "cell_type": "code",
   "execution_count": 42,
   "metadata": {},
   "outputs": [
    {
     "output_type": "execute_result",
     "data": {
      "text/plain": [
       "        Date index(es)  return(s)\n",
       "0 2021-03-22  AZUL4.SA       1.00\n",
       "1 2021-03-23  AZUL4.SA       0.93\n",
       "2 2021-03-24  AZUL4.SA       0.93\n",
       "3 2021-03-25  AZUL4.SA       0.94\n",
       "4 2021-03-26  AZUL4.SA       0.95\n",
       "5 2021-03-22  ITUB4.SA       1.00\n",
       "6 2021-03-23  ITUB4.SA       0.97\n",
       "7 2021-03-24  ITUB4.SA       0.96\n",
       "8 2021-03-25  ITUB4.SA       0.97\n",
       "9 2021-03-26  ITUB4.SA       0.99"
      ],
      "text/html": "<div>\n<style scoped>\n    .dataframe tbody tr th:only-of-type {\n        vertical-align: middle;\n    }\n\n    .dataframe tbody tr th {\n        vertical-align: top;\n    }\n\n    .dataframe thead th {\n        text-align: right;\n    }\n</style>\n<table border=\"1\" class=\"dataframe\">\n  <thead>\n    <tr style=\"text-align: right;\">\n      <th></th>\n      <th>Date</th>\n      <th>index(es)</th>\n      <th>return(s)</th>\n    </tr>\n  </thead>\n  <tbody>\n    <tr>\n      <th>0</th>\n      <td>2021-03-22</td>\n      <td>AZUL4.SA</td>\n      <td>1.00</td>\n    </tr>\n    <tr>\n      <th>1</th>\n      <td>2021-03-23</td>\n      <td>AZUL4.SA</td>\n      <td>0.93</td>\n    </tr>\n    <tr>\n      <th>2</th>\n      <td>2021-03-24</td>\n      <td>AZUL4.SA</td>\n      <td>0.93</td>\n    </tr>\n    <tr>\n      <th>3</th>\n      <td>2021-03-25</td>\n      <td>AZUL4.SA</td>\n      <td>0.94</td>\n    </tr>\n    <tr>\n      <th>4</th>\n      <td>2021-03-26</td>\n      <td>AZUL4.SA</td>\n      <td>0.95</td>\n    </tr>\n    <tr>\n      <th>5</th>\n      <td>2021-03-22</td>\n      <td>ITUB4.SA</td>\n      <td>1.00</td>\n    </tr>\n    <tr>\n      <th>6</th>\n      <td>2021-03-23</td>\n      <td>ITUB4.SA</td>\n      <td>0.97</td>\n    </tr>\n    <tr>\n      <th>7</th>\n      <td>2021-03-24</td>\n      <td>ITUB4.SA</td>\n      <td>0.96</td>\n    </tr>\n    <tr>\n      <th>8</th>\n      <td>2021-03-25</td>\n      <td>ITUB4.SA</td>\n      <td>0.97</td>\n    </tr>\n    <tr>\n      <th>9</th>\n      <td>2021-03-26</td>\n      <td>ITUB4.SA</td>\n      <td>0.99</td>\n    </tr>\n  </tbody>\n</table>\n</div>"
     },
     "metadata": {},
     "execution_count": 42
    }
   ],
   "source": [
    "var_name = 'index(es)'\n",
    "value_name = 'return(s)'\n",
    "\n",
    "df = chart_data_normalised.reset_index()\n",
    "df = df.melt('Date', var_name=var_name, value_name=value_name)\n",
    "df.dropna(how='any', inplace=True)\n",
    "df.head(10)"
   ]
  },
  {
   "cell_type": "code",
   "execution_count": 43,
   "metadata": {},
   "outputs": [
    {
     "output_type": "execute_result",
     "data": {
      "text/plain": [
       "   Código             Ação                                              Setor  \\\n",
       "0   ABEV3        AMBEV S/A  [Consumo não Cíclico, Bebidas, Cervejas, Refri...   \n",
       "1   AZUL4             AZUL   [Bens Industriais, Transporte, Transporte Aéreo]   \n",
       "2   B3SA3               B3  [Financeiro, Outros, Serviços Financeiros Dive...   \n",
       "3   BBAS3  BANCO DO BRASIL  [Financeiro, Outros, Intermediários Financeiro...   \n",
       "4   BBDC3         BRADESCO  [Financeiro, Outros, Intermediários Financeiro...   \n",
       "..    ...              ...                                                ...   \n",
       "70  VALE3             VALE  [Materiais Básicos, Mineração, Minerais Metáli...   \n",
       "71  VIVT4     TELEF BRASIL                                 [Telecomunicações]   \n",
       "72  VVAR3        VIAVAREJO                        [Consumo Cíclico, Comércio]   \n",
       "73  WEGE3              WEG         [Bens Industriais, Máquinas, Equipamentos]   \n",
       "74  YDUQ3       YDUQS PART           [Consumo Cíclico, Serviços Educacionais]   \n",
       "\n",
       "         Tipo                           Site  \n",
       "0          ON         http://ri.ambev.com.br  \n",
       "1       PN N2    https://www.voeazul.com.br/  \n",
       "2       ON NM          http://www.b3.com.br/  \n",
       "3   ON ERJ NM          http://www.bb.com.br/  \n",
       "4       ON N1    http://www.bradesco.com.br/  \n",
       "..        ...                            ...  \n",
       "70      ON NM           http://www.vale.com/  \n",
       "71         PN  http://www.telefonica.com.br/  \n",
       "72      ON NM  https://www.viavarejo.com.br/  \n",
       "73      ON NM           https://www.weg.net/  \n",
       "74      ON NM      https://www.yduqs.com.br/  \n",
       "\n",
       "[75 rows x 5 columns]"
      ],
      "text/html": "<div>\n<style scoped>\n    .dataframe tbody tr th:only-of-type {\n        vertical-align: middle;\n    }\n\n    .dataframe tbody tr th {\n        vertical-align: top;\n    }\n\n    .dataframe thead th {\n        text-align: right;\n    }\n</style>\n<table border=\"1\" class=\"dataframe\">\n  <thead>\n    <tr style=\"text-align: right;\">\n      <th></th>\n      <th>Código</th>\n      <th>Ação</th>\n      <th>Setor</th>\n      <th>Tipo</th>\n      <th>Site</th>\n    </tr>\n  </thead>\n  <tbody>\n    <tr>\n      <th>0</th>\n      <td>ABEV3</td>\n      <td>AMBEV S/A</td>\n      <td>[Consumo não Cíclico, Bebidas, Cervejas, Refri...</td>\n      <td>ON</td>\n      <td>http://ri.ambev.com.br</td>\n    </tr>\n    <tr>\n      <th>1</th>\n      <td>AZUL4</td>\n      <td>AZUL</td>\n      <td>[Bens Industriais, Transporte, Transporte Aéreo]</td>\n      <td>PN N2</td>\n      <td>https://www.voeazul.com.br/</td>\n    </tr>\n    <tr>\n      <th>2</th>\n      <td>B3SA3</td>\n      <td>B3</td>\n      <td>[Financeiro, Outros, Serviços Financeiros Dive...</td>\n      <td>ON NM</td>\n      <td>http://www.b3.com.br/</td>\n    </tr>\n    <tr>\n      <th>3</th>\n      <td>BBAS3</td>\n      <td>BANCO DO BRASIL</td>\n      <td>[Financeiro, Outros, Intermediários Financeiro...</td>\n      <td>ON ERJ NM</td>\n      <td>http://www.bb.com.br/</td>\n    </tr>\n    <tr>\n      <th>4</th>\n      <td>BBDC3</td>\n      <td>BRADESCO</td>\n      <td>[Financeiro, Outros, Intermediários Financeiro...</td>\n      <td>ON N1</td>\n      <td>http://www.bradesco.com.br/</td>\n    </tr>\n    <tr>\n      <th>...</th>\n      <td>...</td>\n      <td>...</td>\n      <td>...</td>\n      <td>...</td>\n      <td>...</td>\n    </tr>\n    <tr>\n      <th>70</th>\n      <td>VALE3</td>\n      <td>VALE</td>\n      <td>[Materiais Básicos, Mineração, Minerais Metáli...</td>\n      <td>ON NM</td>\n      <td>http://www.vale.com/</td>\n    </tr>\n    <tr>\n      <th>71</th>\n      <td>VIVT4</td>\n      <td>TELEF BRASIL</td>\n      <td>[Telecomunicações]</td>\n      <td>PN</td>\n      <td>http://www.telefonica.com.br/</td>\n    </tr>\n    <tr>\n      <th>72</th>\n      <td>VVAR3</td>\n      <td>VIAVAREJO</td>\n      <td>[Consumo Cíclico, Comércio]</td>\n      <td>ON NM</td>\n      <td>https://www.viavarejo.com.br/</td>\n    </tr>\n    <tr>\n      <th>73</th>\n      <td>WEGE3</td>\n      <td>WEG</td>\n      <td>[Bens Industriais, Máquinas, Equipamentos]</td>\n      <td>ON NM</td>\n      <td>https://www.weg.net/</td>\n    </tr>\n    <tr>\n      <th>74</th>\n      <td>YDUQ3</td>\n      <td>YDUQS PART</td>\n      <td>[Consumo Cíclico, Serviços Educacionais]</td>\n      <td>ON NM</td>\n      <td>https://www.yduqs.com.br/</td>\n    </tr>\n  </tbody>\n</table>\n<p>75 rows × 5 columns</p>\n</div>"
     },
     "metadata": {},
     "execution_count": 43
    }
   ],
   "source": [
    "components = pd.read_html(\"https://pt.wikipedia.org/wiki/Lista_de_companhias_citadas_no_Ibovespa\")[0]\n",
    "components[\"Setor\"] = components[\"Setor\"].str.replace(\" e \", \" / \", regex=False)\n",
    "components[\"Setor\"] = components[\"Setor\"].str.split(\" / \")\n",
    "components"
   ]
  },
  {
   "cell_type": "code",
   "execution_count": 45,
   "metadata": {},
   "outputs": [
    {
     "output_type": "execute_result",
     "data": {
      "text/plain": [
       "   Mês/Ano  N.º empresas  Valor de mercado em R$  Valor de mercado em US$\n",
       "0  01/1998            45      193,441,400,000.00       172,146,840,000.00\n",
       "1  02/1998            45      203,195,970,000.00       179,755,810,000.00\n",
       "2  03/1998            48      224,271,340,000.00       197,178,950,000.00\n",
       "3  04/1998            48      222,212,640,000.00       194,190,890,000.00\n",
       "4  05/1998            50      186,326,890,000.00       161,952,970,000.00"
      ],
      "text/html": "<div>\n<style scoped>\n    .dataframe tbody tr th:only-of-type {\n        vertical-align: middle;\n    }\n\n    .dataframe tbody tr th {\n        vertical-align: top;\n    }\n\n    .dataframe thead th {\n        text-align: right;\n    }\n</style>\n<table border=\"1\" class=\"dataframe\">\n  <thead>\n    <tr style=\"text-align: right;\">\n      <th></th>\n      <th>Mês/Ano</th>\n      <th>N.º empresas</th>\n      <th>Valor de mercado em R$</th>\n      <th>Valor de mercado em US$</th>\n    </tr>\n  </thead>\n  <tbody>\n    <tr>\n      <th>0</th>\n      <td>01/1998</td>\n      <td>45</td>\n      <td>193,441,400,000.00</td>\n      <td>172,146,840,000.00</td>\n    </tr>\n    <tr>\n      <th>1</th>\n      <td>02/1998</td>\n      <td>45</td>\n      <td>203,195,970,000.00</td>\n      <td>179,755,810,000.00</td>\n    </tr>\n    <tr>\n      <th>2</th>\n      <td>03/1998</td>\n      <td>48</td>\n      <td>224,271,340,000.00</td>\n      <td>197,178,950,000.00</td>\n    </tr>\n    <tr>\n      <th>3</th>\n      <td>04/1998</td>\n      <td>48</td>\n      <td>222,212,640,000.00</td>\n      <td>194,190,890,000.00</td>\n    </tr>\n    <tr>\n      <th>4</th>\n      <td>05/1998</td>\n      <td>50</td>\n      <td>186,326,890,000.00</td>\n      <td>161,952,970,000.00</td>\n    </tr>\n  </tbody>\n</table>\n</div>"
     },
     "metadata": {},
     "execution_count": 45
    }
   ],
   "source": [
    "file = \"./data/raw/df_valor_mercado_b3_202103.csv\"\n",
    "df_valor_mercado = pd.read_csv(file, delimiter='\\t', decimal=',', thousands='.')\n",
    "df_valor_mercado.head()"
   ]
  },
  {
   "cell_type": "code",
   "execution_count": 49,
   "metadata": {},
   "outputs": [
    {
     "output_type": "execute_result",
     "data": {
      "text/plain": [
       "        mes_ano      trimestre_ano    valor_brl\n",
       "295  01/08/2020  3º trimestre 2020 1,891,735.27\n",
       "296  01/09/2020  3º trimestre 2020 1,891,735.27\n",
       "297  01/10/2020  4º trimestre 2020 2,003,500.27\n",
       "298  01/11/2020  4º trimestre 2020 2,003,500.27\n",
       "299  01/12/2020  4º trimestre 2020 2,003,500.27"
      ],
      "text/html": "<div>\n<style scoped>\n    .dataframe tbody tr th:only-of-type {\n        vertical-align: middle;\n    }\n\n    .dataframe tbody tr th {\n        vertical-align: top;\n    }\n\n    .dataframe thead th {\n        text-align: right;\n    }\n</style>\n<table border=\"1\" class=\"dataframe\">\n  <thead>\n    <tr style=\"text-align: right;\">\n      <th></th>\n      <th>mes_ano</th>\n      <th>trimestre_ano</th>\n      <th>valor_brl</th>\n    </tr>\n  </thead>\n  <tbody>\n    <tr>\n      <th>295</th>\n      <td>01/08/2020</td>\n      <td>3º trimestre 2020</td>\n      <td>1,891,735.27</td>\n    </tr>\n    <tr>\n      <th>296</th>\n      <td>01/09/2020</td>\n      <td>3º trimestre 2020</td>\n      <td>1,891,735.27</td>\n    </tr>\n    <tr>\n      <th>297</th>\n      <td>01/10/2020</td>\n      <td>4º trimestre 2020</td>\n      <td>2,003,500.27</td>\n    </tr>\n    <tr>\n      <th>298</th>\n      <td>01/11/2020</td>\n      <td>4º trimestre 2020</td>\n      <td>2,003,500.27</td>\n    </tr>\n    <tr>\n      <th>299</th>\n      <td>01/12/2020</td>\n      <td>4º trimestre 2020</td>\n      <td>2,003,500.27</td>\n    </tr>\n  </tbody>\n</table>\n</div>"
     },
     "metadata": {},
     "execution_count": 49
    }
   ],
   "source": [
    "file = \"./data/raw/df_pib_valor_corrente_202103.csv\"\n",
    "df_pib = pd.read_csv(file, delimiter=';')\n",
    "df_pib.tail()"
   ]
  },
  {
   "cell_type": "code",
   "execution_count": 52,
   "metadata": {},
   "outputs": [
    {
     "output_type": "error",
     "ename": "ValueError",
     "evalue": "Expected object or value",
     "traceback": [
      "\u001b[0;31m---------------------------------------------------------------------------\u001b[0m",
      "\u001b[0;31mValueError\u001b[0m                                Traceback (most recent call last)",
      "\u001b[0;32m<ipython-input-52-951f021e5280>\u001b[0m in \u001b[0;36m<module>\u001b[0;34m\u001b[0m\n\u001b[1;32m      2\u001b[0m \u001b[0murl_bc\u001b[0m \u001b[0;34m=\u001b[0m \u001b[0;34m\"http://api.bcb.gov.br/dados/serie/bcdata.sgs.24363/dados?formato=json\"\u001b[0m\u001b[0;34m+\u001b[0m\u001b[0mbc_code\u001b[0m\u001b[0;34m\u001b[0m\u001b[0;34m\u001b[0m\u001b[0m\n\u001b[1;32m      3\u001b[0m \u001b[0;34m\u001b[0m\u001b[0m\n\u001b[0;32m----> 4\u001b[0;31m \u001b[0mdf_pib\u001b[0m \u001b[0;34m=\u001b[0m \u001b[0mpd\u001b[0m\u001b[0;34m.\u001b[0m\u001b[0mread_json\u001b[0m\u001b[0;34m(\u001b[0m\u001b[0murl\u001b[0m\u001b[0;34m)\u001b[0m\u001b[0;34m\u001b[0m\u001b[0;34m\u001b[0m\u001b[0m\n\u001b[0m\u001b[1;32m      5\u001b[0m \u001b[0mdf_pib\u001b[0m\u001b[0;34m.\u001b[0m\u001b[0mhead\u001b[0m\u001b[0;34m(\u001b[0m\u001b[0;34m)\u001b[0m\u001b[0;34m\u001b[0m\u001b[0;34m\u001b[0m\u001b[0m\n",
      "\u001b[0;32m~/development/cafe_com_analytics/wb_indicator/.venv/lib/python3.8/site-packages/pandas/util/_decorators.py\u001b[0m in \u001b[0;36mwrapper\u001b[0;34m(*args, **kwargs)\u001b[0m\n\u001b[1;32m    197\u001b[0m                 \u001b[0;32melse\u001b[0m\u001b[0;34m:\u001b[0m\u001b[0;34m\u001b[0m\u001b[0;34m\u001b[0m\u001b[0m\n\u001b[1;32m    198\u001b[0m                     \u001b[0mkwargs\u001b[0m\u001b[0;34m[\u001b[0m\u001b[0mnew_arg_name\u001b[0m\u001b[0;34m]\u001b[0m \u001b[0;34m=\u001b[0m \u001b[0mnew_arg_value\u001b[0m\u001b[0;34m\u001b[0m\u001b[0;34m\u001b[0m\u001b[0m\n\u001b[0;32m--> 199\u001b[0;31m             \u001b[0;32mreturn\u001b[0m \u001b[0mfunc\u001b[0m\u001b[0;34m(\u001b[0m\u001b[0;34m*\u001b[0m\u001b[0margs\u001b[0m\u001b[0;34m,\u001b[0m \u001b[0;34m**\u001b[0m\u001b[0mkwargs\u001b[0m\u001b[0;34m)\u001b[0m\u001b[0;34m\u001b[0m\u001b[0;34m\u001b[0m\u001b[0m\n\u001b[0m\u001b[1;32m    200\u001b[0m \u001b[0;34m\u001b[0m\u001b[0m\n\u001b[1;32m    201\u001b[0m         \u001b[0;32mreturn\u001b[0m \u001b[0mcast\u001b[0m\u001b[0;34m(\u001b[0m\u001b[0mF\u001b[0m\u001b[0;34m,\u001b[0m \u001b[0mwrapper\u001b[0m\u001b[0;34m)\u001b[0m\u001b[0;34m\u001b[0m\u001b[0;34m\u001b[0m\u001b[0m\n",
      "\u001b[0;32m~/development/cafe_com_analytics/wb_indicator/.venv/lib/python3.8/site-packages/pandas/util/_decorators.py\u001b[0m in \u001b[0;36mwrapper\u001b[0;34m(*args, **kwargs)\u001b[0m\n\u001b[1;32m    297\u001b[0m                 )\n\u001b[1;32m    298\u001b[0m                 \u001b[0mwarnings\u001b[0m\u001b[0;34m.\u001b[0m\u001b[0mwarn\u001b[0m\u001b[0;34m(\u001b[0m\u001b[0mmsg\u001b[0m\u001b[0;34m,\u001b[0m \u001b[0mFutureWarning\u001b[0m\u001b[0;34m,\u001b[0m \u001b[0mstacklevel\u001b[0m\u001b[0;34m=\u001b[0m\u001b[0mstacklevel\u001b[0m\u001b[0;34m)\u001b[0m\u001b[0;34m\u001b[0m\u001b[0;34m\u001b[0m\u001b[0m\n\u001b[0;32m--> 299\u001b[0;31m             \u001b[0;32mreturn\u001b[0m \u001b[0mfunc\u001b[0m\u001b[0;34m(\u001b[0m\u001b[0;34m*\u001b[0m\u001b[0margs\u001b[0m\u001b[0;34m,\u001b[0m \u001b[0;34m**\u001b[0m\u001b[0mkwargs\u001b[0m\u001b[0;34m)\u001b[0m\u001b[0;34m\u001b[0m\u001b[0;34m\u001b[0m\u001b[0m\n\u001b[0m\u001b[1;32m    300\u001b[0m \u001b[0;34m\u001b[0m\u001b[0m\n\u001b[1;32m    301\u001b[0m         \u001b[0;32mreturn\u001b[0m \u001b[0mwrapper\u001b[0m\u001b[0;34m\u001b[0m\u001b[0;34m\u001b[0m\u001b[0m\n",
      "\u001b[0;32m~/development/cafe_com_analytics/wb_indicator/.venv/lib/python3.8/site-packages/pandas/io/json/_json.py\u001b[0m in \u001b[0;36mread_json\u001b[0;34m(path_or_buf, orient, typ, dtype, convert_axes, convert_dates, keep_default_dates, numpy, precise_float, date_unit, encoding, lines, chunksize, compression, nrows, storage_options)\u001b[0m\n\u001b[1;32m    561\u001b[0m \u001b[0;34m\u001b[0m\u001b[0m\n\u001b[1;32m    562\u001b[0m     \u001b[0;32mwith\u001b[0m \u001b[0mjson_reader\u001b[0m\u001b[0;34m:\u001b[0m\u001b[0;34m\u001b[0m\u001b[0;34m\u001b[0m\u001b[0m\n\u001b[0;32m--> 563\u001b[0;31m         \u001b[0;32mreturn\u001b[0m \u001b[0mjson_reader\u001b[0m\u001b[0;34m.\u001b[0m\u001b[0mread\u001b[0m\u001b[0;34m(\u001b[0m\u001b[0;34m)\u001b[0m\u001b[0;34m\u001b[0m\u001b[0;34m\u001b[0m\u001b[0m\n\u001b[0m\u001b[1;32m    564\u001b[0m \u001b[0;34m\u001b[0m\u001b[0m\n\u001b[1;32m    565\u001b[0m \u001b[0;34m\u001b[0m\u001b[0m\n",
      "\u001b[0;32m~/development/cafe_com_analytics/wb_indicator/.venv/lib/python3.8/site-packages/pandas/io/json/_json.py\u001b[0m in \u001b[0;36mread\u001b[0;34m(self)\u001b[0m\n\u001b[1;32m    692\u001b[0m                 \u001b[0mobj\u001b[0m \u001b[0;34m=\u001b[0m \u001b[0mself\u001b[0m\u001b[0;34m.\u001b[0m\u001b[0m_get_object_parser\u001b[0m\u001b[0;34m(\u001b[0m\u001b[0mself\u001b[0m\u001b[0;34m.\u001b[0m\u001b[0m_combine_lines\u001b[0m\u001b[0;34m(\u001b[0m\u001b[0mdata_lines\u001b[0m\u001b[0;34m)\u001b[0m\u001b[0;34m)\u001b[0m\u001b[0;34m\u001b[0m\u001b[0;34m\u001b[0m\u001b[0m\n\u001b[1;32m    693\u001b[0m         \u001b[0;32melse\u001b[0m\u001b[0;34m:\u001b[0m\u001b[0;34m\u001b[0m\u001b[0;34m\u001b[0m\u001b[0m\n\u001b[0;32m--> 694\u001b[0;31m             \u001b[0mobj\u001b[0m \u001b[0;34m=\u001b[0m \u001b[0mself\u001b[0m\u001b[0;34m.\u001b[0m\u001b[0m_get_object_parser\u001b[0m\u001b[0;34m(\u001b[0m\u001b[0mself\u001b[0m\u001b[0;34m.\u001b[0m\u001b[0mdata\u001b[0m\u001b[0;34m)\u001b[0m\u001b[0;34m\u001b[0m\u001b[0;34m\u001b[0m\u001b[0m\n\u001b[0m\u001b[1;32m    695\u001b[0m         \u001b[0mself\u001b[0m\u001b[0;34m.\u001b[0m\u001b[0mclose\u001b[0m\u001b[0;34m(\u001b[0m\u001b[0;34m)\u001b[0m\u001b[0;34m\u001b[0m\u001b[0;34m\u001b[0m\u001b[0m\n\u001b[1;32m    696\u001b[0m         \u001b[0;32mreturn\u001b[0m \u001b[0mobj\u001b[0m\u001b[0;34m\u001b[0m\u001b[0;34m\u001b[0m\u001b[0m\n",
      "\u001b[0;32m~/development/cafe_com_analytics/wb_indicator/.venv/lib/python3.8/site-packages/pandas/io/json/_json.py\u001b[0m in \u001b[0;36m_get_object_parser\u001b[0;34m(self, json)\u001b[0m\n\u001b[1;32m    714\u001b[0m         \u001b[0mobj\u001b[0m \u001b[0;34m=\u001b[0m \u001b[0;32mNone\u001b[0m\u001b[0;34m\u001b[0m\u001b[0;34m\u001b[0m\u001b[0m\n\u001b[1;32m    715\u001b[0m         \u001b[0;32mif\u001b[0m \u001b[0mtyp\u001b[0m \u001b[0;34m==\u001b[0m \u001b[0;34m\"frame\"\u001b[0m\u001b[0;34m:\u001b[0m\u001b[0;34m\u001b[0m\u001b[0;34m\u001b[0m\u001b[0m\n\u001b[0;32m--> 716\u001b[0;31m             \u001b[0mobj\u001b[0m \u001b[0;34m=\u001b[0m \u001b[0mFrameParser\u001b[0m\u001b[0;34m(\u001b[0m\u001b[0mjson\u001b[0m\u001b[0;34m,\u001b[0m \u001b[0;34m**\u001b[0m\u001b[0mkwargs\u001b[0m\u001b[0;34m)\u001b[0m\u001b[0;34m.\u001b[0m\u001b[0mparse\u001b[0m\u001b[0;34m(\u001b[0m\u001b[0;34m)\u001b[0m\u001b[0;34m\u001b[0m\u001b[0;34m\u001b[0m\u001b[0m\n\u001b[0m\u001b[1;32m    717\u001b[0m \u001b[0;34m\u001b[0m\u001b[0m\n\u001b[1;32m    718\u001b[0m         \u001b[0;32mif\u001b[0m \u001b[0mtyp\u001b[0m \u001b[0;34m==\u001b[0m \u001b[0;34m\"series\"\u001b[0m \u001b[0;32mor\u001b[0m \u001b[0mobj\u001b[0m \u001b[0;32mis\u001b[0m \u001b[0;32mNone\u001b[0m\u001b[0;34m:\u001b[0m\u001b[0;34m\u001b[0m\u001b[0;34m\u001b[0m\u001b[0m\n",
      "\u001b[0;32m~/development/cafe_com_analytics/wb_indicator/.venv/lib/python3.8/site-packages/pandas/io/json/_json.py\u001b[0m in \u001b[0;36mparse\u001b[0;34m(self)\u001b[0m\n\u001b[1;32m    829\u001b[0m \u001b[0;34m\u001b[0m\u001b[0m\n\u001b[1;32m    830\u001b[0m         \u001b[0;32melse\u001b[0m\u001b[0;34m:\u001b[0m\u001b[0;34m\u001b[0m\u001b[0;34m\u001b[0m\u001b[0m\n\u001b[0;32m--> 831\u001b[0;31m             \u001b[0mself\u001b[0m\u001b[0;34m.\u001b[0m\u001b[0m_parse_no_numpy\u001b[0m\u001b[0;34m(\u001b[0m\u001b[0;34m)\u001b[0m\u001b[0;34m\u001b[0m\u001b[0;34m\u001b[0m\u001b[0m\n\u001b[0m\u001b[1;32m    832\u001b[0m \u001b[0;34m\u001b[0m\u001b[0m\n\u001b[1;32m    833\u001b[0m         \u001b[0;32mif\u001b[0m \u001b[0mself\u001b[0m\u001b[0;34m.\u001b[0m\u001b[0mobj\u001b[0m \u001b[0;32mis\u001b[0m \u001b[0;32mNone\u001b[0m\u001b[0;34m:\u001b[0m\u001b[0;34m\u001b[0m\u001b[0;34m\u001b[0m\u001b[0m\n",
      "\u001b[0;32m~/development/cafe_com_analytics/wb_indicator/.venv/lib/python3.8/site-packages/pandas/io/json/_json.py\u001b[0m in \u001b[0;36m_parse_no_numpy\u001b[0;34m(self)\u001b[0m\n\u001b[1;32m   1077\u001b[0m         \u001b[0;32mif\u001b[0m \u001b[0morient\u001b[0m \u001b[0;34m==\u001b[0m \u001b[0;34m\"columns\"\u001b[0m\u001b[0;34m:\u001b[0m\u001b[0;34m\u001b[0m\u001b[0;34m\u001b[0m\u001b[0m\n\u001b[1;32m   1078\u001b[0m             self.obj = DataFrame(\n\u001b[0;32m-> 1079\u001b[0;31m                 \u001b[0mloads\u001b[0m\u001b[0;34m(\u001b[0m\u001b[0mjson\u001b[0m\u001b[0;34m,\u001b[0m \u001b[0mprecise_float\u001b[0m\u001b[0;34m=\u001b[0m\u001b[0mself\u001b[0m\u001b[0;34m.\u001b[0m\u001b[0mprecise_float\u001b[0m\u001b[0;34m)\u001b[0m\u001b[0;34m,\u001b[0m \u001b[0mdtype\u001b[0m\u001b[0;34m=\u001b[0m\u001b[0;32mNone\u001b[0m\u001b[0;34m\u001b[0m\u001b[0;34m\u001b[0m\u001b[0m\n\u001b[0m\u001b[1;32m   1080\u001b[0m             )\n\u001b[1;32m   1081\u001b[0m         \u001b[0;32melif\u001b[0m \u001b[0morient\u001b[0m \u001b[0;34m==\u001b[0m \u001b[0;34m\"split\"\u001b[0m\u001b[0;34m:\u001b[0m\u001b[0;34m\u001b[0m\u001b[0;34m\u001b[0m\u001b[0m\n",
      "\u001b[0;31mValueError\u001b[0m: Expected object or value"
     ]
    }
   ],
   "source": [
    "bc_code = '1207'\n",
    "url_bc = \"http://api.bcb.gov.br/dados/serie/bcdata.sgs.24363/dados?formato=json\"+bc_code\n",
    "\n",
    "df_pib = pd.read_json(url)\n",
    "df_pib.head()\n"
   ]
  },
  {
   "cell_type": "code",
   "execution_count": 4,
   "metadata": {},
   "outputs": [
    {
     "output_type": "display_data",
     "data": {
      "text/html": "\n    <div class=\"bk-root\">\n        <a href=\"https://bokeh.org\" target=\"_blank\" class=\"bk-logo bk-logo-small bk-logo-notebook\"></a>\n        <span id=\"1002\">Loading BokehJS ...</span>\n    </div>"
     },
     "metadata": {}
    },
    {
     "output_type": "display_data",
     "data": {
      "application/javascript": "\n(function(root) {\n  function now() {\n    return new Date();\n  }\n\n  var force = true;\n\n  if (typeof root._bokeh_onload_callbacks === \"undefined\" || force === true) {\n    root._bokeh_onload_callbacks = [];\n    root._bokeh_is_loading = undefined;\n  }\n\n  var JS_MIME_TYPE = 'application/javascript';\n  var HTML_MIME_TYPE = 'text/html';\n  var EXEC_MIME_TYPE = 'application/vnd.bokehjs_exec.v0+json';\n  var CLASS_NAME = 'output_bokeh rendered_html';\n\n  /**\n   * Render data to the DOM node\n   */\n  function render(props, node) {\n    var script = document.createElement(\"script\");\n    node.appendChild(script);\n  }\n\n  /**\n   * Handle when an output is cleared or removed\n   */\n  function handleClearOutput(event, handle) {\n    var cell = handle.cell;\n\n    var id = cell.output_area._bokeh_element_id;\n    var server_id = cell.output_area._bokeh_server_id;\n    // Clean up Bokeh references\n    if (id != null && id in Bokeh.index) {\n      Bokeh.index[id].model.document.clear();\n      delete Bokeh.index[id];\n    }\n\n    if (server_id !== undefined) {\n      // Clean up Bokeh references\n      var cmd = \"from bokeh.io.state import curstate; print(curstate().uuid_to_server['\" + server_id + \"'].get_sessions()[0].document.roots[0]._id)\";\n      cell.notebook.kernel.execute(cmd, {\n        iopub: {\n          output: function(msg) {\n            var id = msg.content.text.trim();\n            if (id in Bokeh.index) {\n              Bokeh.index[id].model.document.clear();\n              delete Bokeh.index[id];\n            }\n          }\n        }\n      });\n      // Destroy server and session\n      var cmd = \"import bokeh.io.notebook as ion; ion.destroy_server('\" + server_id + \"')\";\n      cell.notebook.kernel.execute(cmd);\n    }\n  }\n\n  /**\n   * Handle when a new output is added\n   */\n  function handleAddOutput(event, handle) {\n    var output_area = handle.output_area;\n    var output = handle.output;\n\n    // limit handleAddOutput to display_data with EXEC_MIME_TYPE content only\n    if ((output.output_type != \"display_data\") || (!Object.prototype.hasOwnProperty.call(output.data, EXEC_MIME_TYPE))) {\n      return\n    }\n\n    var toinsert = output_area.element.find(\".\" + CLASS_NAME.split(' ')[0]);\n\n    if (output.metadata[EXEC_MIME_TYPE][\"id\"] !== undefined) {\n      toinsert[toinsert.length - 1].firstChild.textContent = output.data[JS_MIME_TYPE];\n      // store reference to embed id on output_area\n      output_area._bokeh_element_id = output.metadata[EXEC_MIME_TYPE][\"id\"];\n    }\n    if (output.metadata[EXEC_MIME_TYPE][\"server_id\"] !== undefined) {\n      var bk_div = document.createElement(\"div\");\n      bk_div.innerHTML = output.data[HTML_MIME_TYPE];\n      var script_attrs = bk_div.children[0].attributes;\n      for (var i = 0; i < script_attrs.length; i++) {\n        toinsert[toinsert.length - 1].firstChild.setAttribute(script_attrs[i].name, script_attrs[i].value);\n        toinsert[toinsert.length - 1].firstChild.textContent = bk_div.children[0].textContent\n      }\n      // store reference to server id on output_area\n      output_area._bokeh_server_id = output.metadata[EXEC_MIME_TYPE][\"server_id\"];\n    }\n  }\n\n  function register_renderer(events, OutputArea) {\n\n    function append_mime(data, metadata, element) {\n      // create a DOM node to render to\n      var toinsert = this.create_output_subarea(\n        metadata,\n        CLASS_NAME,\n        EXEC_MIME_TYPE\n      );\n      this.keyboard_manager.register_events(toinsert);\n      // Render to node\n      var props = {data: data, metadata: metadata[EXEC_MIME_TYPE]};\n      render(props, toinsert[toinsert.length - 1]);\n      element.append(toinsert);\n      return toinsert\n    }\n\n    /* Handle when an output is cleared or removed */\n    events.on('clear_output.CodeCell', handleClearOutput);\n    events.on('delete.Cell', handleClearOutput);\n\n    /* Handle when a new output is added */\n    events.on('output_added.OutputArea', handleAddOutput);\n\n    /**\n     * Register the mime type and append_mime function with output_area\n     */\n    OutputArea.prototype.register_mime_type(EXEC_MIME_TYPE, append_mime, {\n      /* Is output safe? */\n      safe: true,\n      /* Index of renderer in `output_area.display_order` */\n      index: 0\n    });\n  }\n\n  // register the mime type if in Jupyter Notebook environment and previously unregistered\n  if (root.Jupyter !== undefined) {\n    var events = require('base/js/events');\n    var OutputArea = require('notebook/js/outputarea').OutputArea;\n\n    if (OutputArea.prototype.mime_types().indexOf(EXEC_MIME_TYPE) == -1) {\n      register_renderer(events, OutputArea);\n    }\n  }\n\n  \n  if (typeof (root._bokeh_timeout) === \"undefined\" || force === true) {\n    root._bokeh_timeout = Date.now() + 5000;\n    root._bokeh_failed_load = false;\n  }\n\n  var NB_LOAD_WARNING = {'data': {'text/html':\n     \"<div style='background-color: #fdd'>\\n\"+\n     \"<p>\\n\"+\n     \"BokehJS does not appear to have successfully loaded. If loading BokehJS from CDN, this \\n\"+\n     \"may be due to a slow or bad network connection. Possible fixes:\\n\"+\n     \"</p>\\n\"+\n     \"<ul>\\n\"+\n     \"<li>re-rerun `output_notebook()` to attempt to load from CDN again, or</li>\\n\"+\n     \"<li>use INLINE resources instead, as so:</li>\\n\"+\n     \"</ul>\\n\"+\n     \"<code>\\n\"+\n     \"from bokeh.resources import INLINE\\n\"+\n     \"output_notebook(resources=INLINE)\\n\"+\n     \"</code>\\n\"+\n     \"</div>\"}};\n\n  function display_loaded() {\n    var el = document.getElementById(\"1002\");\n    if (el != null) {\n      el.textContent = \"BokehJS is loading...\";\n    }\n    if (root.Bokeh !== undefined) {\n      if (el != null) {\n        el.textContent = \"BokehJS \" + root.Bokeh.version + \" successfully loaded.\";\n      }\n    } else if (Date.now() < root._bokeh_timeout) {\n      setTimeout(display_loaded, 100)\n    }\n  }\n\n\n  function run_callbacks() {\n    try {\n      root._bokeh_onload_callbacks.forEach(function(callback) {\n        if (callback != null)\n          callback();\n      });\n    } finally {\n      delete root._bokeh_onload_callbacks\n    }\n    console.debug(\"Bokeh: all callbacks have finished\");\n  }\n\n  function load_libs(css_urls, js_urls, callback) {\n    if (css_urls == null) css_urls = [];\n    if (js_urls == null) js_urls = [];\n\n    root._bokeh_onload_callbacks.push(callback);\n    if (root._bokeh_is_loading > 0) {\n      console.debug(\"Bokeh: BokehJS is being loaded, scheduling callback at\", now());\n      return null;\n    }\n    if (js_urls == null || js_urls.length === 0) {\n      run_callbacks();\n      return null;\n    }\n    console.debug(\"Bokeh: BokehJS not loaded, scheduling load and callback at\", now());\n    root._bokeh_is_loading = css_urls.length + js_urls.length;\n\n    function on_load() {\n      root._bokeh_is_loading--;\n      if (root._bokeh_is_loading === 0) {\n        console.debug(\"Bokeh: all BokehJS libraries/stylesheets loaded\");\n        run_callbacks()\n      }\n    }\n\n    function on_error(url) {\n      console.error(\"failed to load \" + url);\n    }\n\n    for (let i = 0; i < css_urls.length; i++) {\n      const url = css_urls[i];\n      const element = document.createElement(\"link\");\n      element.onload = on_load;\n      element.onerror = on_error.bind(null, url);\n      element.rel = \"stylesheet\";\n      element.type = \"text/css\";\n      element.href = url;\n      console.debug(\"Bokeh: injecting link tag for BokehJS stylesheet: \", url);\n      document.body.appendChild(element);\n    }\n\n    const hashes = {\"https://cdn.bokeh.org/bokeh/release/bokeh-2.3.0.min.js\": \"HjagQp6T0/7bxYTAXbLotF1MLAGWmhkY5siA1Gc/pcEgvgRPtMsRn0gQtMwGKiw1\", \"https://cdn.bokeh.org/bokeh/release/bokeh-widgets-2.3.0.min.js\": \"ZEPPTjL+mdyqgIq+/pl9KTwzji8Kow2NnI3zWY8+sFinWP/SYJ80BnfeJsa45iYj\", \"https://cdn.bokeh.org/bokeh/release/bokeh-tables-2.3.0.min.js\": \"exLqv2ACDRIaV7ZK1iL8aGzGYQvKVuT3U2CT7FsQREBxRah6JrkVCoFy0koY1YqV\"};\n\n    for (let i = 0; i < js_urls.length; i++) {\n      const url = js_urls[i];\n      const element = document.createElement('script');\n      element.onload = on_load;\n      element.onerror = on_error.bind(null, url);\n      element.async = false;\n      element.src = url;\n      if (url in hashes) {\n        element.crossOrigin = \"anonymous\";\n        element.integrity = \"sha384-\" + hashes[url];\n      }\n      console.debug(\"Bokeh: injecting script tag for BokehJS library: \", url);\n      document.head.appendChild(element);\n    }\n  };\n\n  function inject_raw_css(css) {\n    const element = document.createElement(\"style\");\n    element.appendChild(document.createTextNode(css));\n    document.body.appendChild(element);\n  }\n\n  \n  var js_urls = [\"https://cdn.bokeh.org/bokeh/release/bokeh-2.3.0.min.js\", \"https://cdn.bokeh.org/bokeh/release/bokeh-widgets-2.3.0.min.js\", \"https://cdn.bokeh.org/bokeh/release/bokeh-tables-2.3.0.min.js\"];\n  var css_urls = [];\n  \n\n  var inline_js = [\n    function(Bokeh) {\n      Bokeh.set_log_level(\"info\");\n    },\n    function(Bokeh) {\n    \n    \n    }\n  ];\n\n  function run_inline_js() {\n    \n    if (root.Bokeh !== undefined || force === true) {\n      \n    for (var i = 0; i < inline_js.length; i++) {\n      inline_js[i].call(root, root.Bokeh);\n    }\n    if (force === true) {\n        display_loaded();\n      }} else if (Date.now() < root._bokeh_timeout) {\n      setTimeout(run_inline_js, 100);\n    } else if (!root._bokeh_failed_load) {\n      console.log(\"Bokeh: BokehJS failed to load within specified timeout.\");\n      root._bokeh_failed_load = true;\n    } else if (force !== true) {\n      var cell = $(document.getElementById(\"1002\")).parents('.cell').data().cell;\n      cell.output_area.append_execute_result(NB_LOAD_WARNING)\n    }\n\n  }\n\n  if (root._bokeh_is_loading === 0) {\n    console.debug(\"Bokeh: BokehJS loaded, going straight to plotting\");\n    run_inline_js();\n  } else {\n    load_libs(css_urls, js_urls, function() {\n      console.debug(\"Bokeh: BokehJS plotting callback run at\", now());\n      run_inline_js();\n    });\n  }\n}(window));",
      "application/vnd.bokehjs_load.v0+json": "\n(function(root) {\n  function now() {\n    return new Date();\n  }\n\n  var force = true;\n\n  if (typeof root._bokeh_onload_callbacks === \"undefined\" || force === true) {\n    root._bokeh_onload_callbacks = [];\n    root._bokeh_is_loading = undefined;\n  }\n\n  \n\n  \n  if (typeof (root._bokeh_timeout) === \"undefined\" || force === true) {\n    root._bokeh_timeout = Date.now() + 5000;\n    root._bokeh_failed_load = false;\n  }\n\n  var NB_LOAD_WARNING = {'data': {'text/html':\n     \"<div style='background-color: #fdd'>\\n\"+\n     \"<p>\\n\"+\n     \"BokehJS does not appear to have successfully loaded. If loading BokehJS from CDN, this \\n\"+\n     \"may be due to a slow or bad network connection. Possible fixes:\\n\"+\n     \"</p>\\n\"+\n     \"<ul>\\n\"+\n     \"<li>re-rerun `output_notebook()` to attempt to load from CDN again, or</li>\\n\"+\n     \"<li>use INLINE resources instead, as so:</li>\\n\"+\n     \"</ul>\\n\"+\n     \"<code>\\n\"+\n     \"from bokeh.resources import INLINE\\n\"+\n     \"output_notebook(resources=INLINE)\\n\"+\n     \"</code>\\n\"+\n     \"</div>\"}};\n\n  function display_loaded() {\n    var el = document.getElementById(\"1002\");\n    if (el != null) {\n      el.textContent = \"BokehJS is loading...\";\n    }\n    if (root.Bokeh !== undefined) {\n      if (el != null) {\n        el.textContent = \"BokehJS \" + root.Bokeh.version + \" successfully loaded.\";\n      }\n    } else if (Date.now() < root._bokeh_timeout) {\n      setTimeout(display_loaded, 100)\n    }\n  }\n\n\n  function run_callbacks() {\n    try {\n      root._bokeh_onload_callbacks.forEach(function(callback) {\n        if (callback != null)\n          callback();\n      });\n    } finally {\n      delete root._bokeh_onload_callbacks\n    }\n    console.debug(\"Bokeh: all callbacks have finished\");\n  }\n\n  function load_libs(css_urls, js_urls, callback) {\n    if (css_urls == null) css_urls = [];\n    if (js_urls == null) js_urls = [];\n\n    root._bokeh_onload_callbacks.push(callback);\n    if (root._bokeh_is_loading > 0) {\n      console.debug(\"Bokeh: BokehJS is being loaded, scheduling callback at\", now());\n      return null;\n    }\n    if (js_urls == null || js_urls.length === 0) {\n      run_callbacks();\n      return null;\n    }\n    console.debug(\"Bokeh: BokehJS not loaded, scheduling load and callback at\", now());\n    root._bokeh_is_loading = css_urls.length + js_urls.length;\n\n    function on_load() {\n      root._bokeh_is_loading--;\n      if (root._bokeh_is_loading === 0) {\n        console.debug(\"Bokeh: all BokehJS libraries/stylesheets loaded\");\n        run_callbacks()\n      }\n    }\n\n    function on_error(url) {\n      console.error(\"failed to load \" + url);\n    }\n\n    for (let i = 0; i < css_urls.length; i++) {\n      const url = css_urls[i];\n      const element = document.createElement(\"link\");\n      element.onload = on_load;\n      element.onerror = on_error.bind(null, url);\n      element.rel = \"stylesheet\";\n      element.type = \"text/css\";\n      element.href = url;\n      console.debug(\"Bokeh: injecting link tag for BokehJS stylesheet: \", url);\n      document.body.appendChild(element);\n    }\n\n    const hashes = {\"https://cdn.bokeh.org/bokeh/release/bokeh-2.3.0.min.js\": \"HjagQp6T0/7bxYTAXbLotF1MLAGWmhkY5siA1Gc/pcEgvgRPtMsRn0gQtMwGKiw1\", \"https://cdn.bokeh.org/bokeh/release/bokeh-widgets-2.3.0.min.js\": \"ZEPPTjL+mdyqgIq+/pl9KTwzji8Kow2NnI3zWY8+sFinWP/SYJ80BnfeJsa45iYj\", \"https://cdn.bokeh.org/bokeh/release/bokeh-tables-2.3.0.min.js\": \"exLqv2ACDRIaV7ZK1iL8aGzGYQvKVuT3U2CT7FsQREBxRah6JrkVCoFy0koY1YqV\"};\n\n    for (let i = 0; i < js_urls.length; i++) {\n      const url = js_urls[i];\n      const element = document.createElement('script');\n      element.onload = on_load;\n      element.onerror = on_error.bind(null, url);\n      element.async = false;\n      element.src = url;\n      if (url in hashes) {\n        element.crossOrigin = \"anonymous\";\n        element.integrity = \"sha384-\" + hashes[url];\n      }\n      console.debug(\"Bokeh: injecting script tag for BokehJS library: \", url);\n      document.head.appendChild(element);\n    }\n  };\n\n  function inject_raw_css(css) {\n    const element = document.createElement(\"style\");\n    element.appendChild(document.createTextNode(css));\n    document.body.appendChild(element);\n  }\n\n  \n  var js_urls = [\"https://cdn.bokeh.org/bokeh/release/bokeh-2.3.0.min.js\", \"https://cdn.bokeh.org/bokeh/release/bokeh-widgets-2.3.0.min.js\", \"https://cdn.bokeh.org/bokeh/release/bokeh-tables-2.3.0.min.js\"];\n  var css_urls = [];\n  \n\n  var inline_js = [\n    function(Bokeh) {\n      Bokeh.set_log_level(\"info\");\n    },\n    function(Bokeh) {\n    \n    \n    }\n  ];\n\n  function run_inline_js() {\n    \n    if (root.Bokeh !== undefined || force === true) {\n      \n    for (var i = 0; i < inline_js.length; i++) {\n      inline_js[i].call(root, root.Bokeh);\n    }\n    if (force === true) {\n        display_loaded();\n      }} else if (Date.now() < root._bokeh_timeout) {\n      setTimeout(run_inline_js, 100);\n    } else if (!root._bokeh_failed_load) {\n      console.log(\"Bokeh: BokehJS failed to load within specified timeout.\");\n      root._bokeh_failed_load = true;\n    } else if (force !== true) {\n      var cell = $(document.getElementById(\"1002\")).parents('.cell').data().cell;\n      cell.output_area.append_execute_result(NB_LOAD_WARNING)\n    }\n\n  }\n\n  if (root._bokeh_is_loading === 0) {\n    console.debug(\"Bokeh: BokehJS loaded, going straight to plotting\");\n    run_inline_js();\n  } else {\n    load_libs(css_urls, js_urls, function() {\n      console.debug(\"Bokeh: BokehJS plotting callback run at\", now());\n      run_inline_js();\n    });\n  }\n}(window));"
     },
     "metadata": {}
    }
   ],
   "source": [
    "import configparser\n",
    "from datetime import date, timedelta\n",
    "\n",
    "from bokeh.io import output_notebook, curdoc\n",
    "from bokeh.layouts import (row, column, gridplot)\n",
    "from bokeh.models import (NumeralTickFormatter, HoverTool, CategoricalColorMapper, Div)\n",
    "from bokeh.models.widgets import Tabs, Panel\n",
    "from bokeh.palettes import Bokeh6\n",
    "from bokeh.plotting import figure, show\n",
    "import pandas as pd\n",
    "import streamlit as st\n",
    "\n",
    "try:\n",
    "    from src.data_acquisition.collect_tickers_data import DataCollector\n",
    "except:\n",
    "    os.chdir('../')\n",
    "    from src.data_acquisition.collect_tickers_data import DataCollector\n",
    "\n",
    "pd.options.display.float_format = \"{:,.2f}\".format\n",
    "output_notebook()"
   ]
  },
  {
   "cell_type": "code",
   "execution_count": 9,
   "metadata": {},
   "outputs": [
    {
     "output_type": "stream",
     "name": "stdout",
     "text": [
      "[*********************100%***********************]  1 of 1 completed\n"
     ]
    },
    {
     "output_type": "display_data",
     "data": {
      "text/html": "\n\n\n\n\n\n  <div class=\"bk-root\" id=\"2e6251c9-559e-4906-a2d0-8828bfbc31ee\" data-root-id=\"1005\"></div>\n"
     },
     "metadata": {}
    },
    {
     "output_type": "display_data",
     "data": {
      "application/javascript": "(function(root) {\n  function embed_document(root) {\n    \n  var docs_json = {\"35fed3af-89cb-4ee7-b8f1-9692ca6906dc\":{\"defs\":[{\"extends\":null,\"module\":null,\"name\":\"DataModel\",\"overrides\":[],\"properties\":[]}],\"roots\":{\"references\":[{\"attributes\":{\"below\":[{\"id\":\"1016\"}],\"center\":[{\"id\":\"1019\"},{\"id\":\"1023\"},{\"id\":\"1072\"}],\"height\":350,\"left\":[{\"id\":\"1020\"}],\"renderers\":[{\"id\":\"1046\"},{\"id\":\"1079\"}],\"title\":{\"id\":\"1006\"},\"toolbar\":{\"id\":\"1033\"},\"toolbar_location\":\"below\",\"width\":900,\"x_range\":{\"id\":\"1008\"},\"x_scale\":{\"id\":\"1012\"},\"y_range\":{\"id\":\"1010\"},\"y_scale\":{\"id\":\"1014\"}},\"id\":\"1005\",\"subtype\":\"Figure\",\"type\":\"Plot\"},{\"attributes\":{\"axis_label\":\"Return\",\"axis_label_standoff\":10,\"axis_label_text_color\":\"#5B5B5B\",\"axis_label_text_font\":\"Calibri Light\",\"axis_label_text_font_size\":\"1.15em\",\"axis_label_text_font_style\":\"bold\",\"axis_line_alpha\":1,\"axis_line_color\":\"#5B5B5B\",\"formatter\":{\"id\":\"1053\"},\"major_label_policy\":{\"id\":\"1054\"},\"major_label_text_color\":\"#5B5B5B\",\"major_label_text_font\":\"Calibri Light\",\"major_label_text_font_size\":\"0.95em\",\"major_label_text_font_style\":\"bold\",\"major_tick_in\":0,\"major_tick_line_alpha\":0.25,\"major_tick_line_color\":\"#5B5B5B\",\"major_tick_out\":3,\"minor_tick_line_alpha\":0.25,\"minor_tick_line_color\":\"#5B5B5B\",\"ticker\":{\"id\":\"1021\"}},\"id\":\"1020\",\"type\":\"LinearAxis\"},{\"attributes\":{\"data_source\":{\"id\":\"1041\"},\"glyph\":{\"id\":\"1043\"},\"hover_glyph\":{\"id\":\"1045\"},\"muted_glyph\":null,\"nonselection_glyph\":{\"id\":\"1044\"},\"view\":{\"id\":\"1047\"}},\"id\":\"1046\",\"type\":\"GlyphRenderer\"},{\"attributes\":{\"days\":[1,2,3,4,5,6,7,8,9,10,11,12,13,14,15,16,17,18,19,20,21,22,23,24,25,26,27,28,29,30,31]},\"id\":\"1061\",\"type\":\"DaysTicker\"},{\"attributes\":{\"active_multi\":null,\"logo\":null,\"tools\":[{\"id\":\"1024\"},{\"id\":\"1025\"},{\"id\":\"1026\"},{\"id\":\"1027\"},{\"id\":\"1028\"},{\"id\":\"1029\"},{\"id\":\"1108\"}]},\"id\":\"1033\",\"type\":\"Toolbar\"},{\"attributes\":{\"line_alpha\":0.5,\"line_color\":\"red\",\"line_width\":2,\"x\":{\"field\":\"Date\"},\"y\":{\"field\":\"formated_date\"}},\"id\":\"1078\",\"type\":\"Line\"},{\"attributes\":{\"days\":[1,4,7,10,13,16,19,22,25,28]},\"id\":\"1062\",\"type\":\"DaysTicker\"},{\"attributes\":{},\"id\":\"1028\",\"type\":\"WheelZoomTool\"},{\"attributes\":{\"axis\":{\"id\":\"1016\"},\"ticker\":null},\"id\":\"1019\",\"type\":\"Grid\"},{\"attributes\":{\"months\":[0,6]},\"id\":\"1068\",\"type\":\"MonthsTicker\"},{\"attributes\":{\"axis\":{\"id\":\"1020\"},\"dimension\":1,\"ticker\":null},\"id\":\"1023\",\"type\":\"Grid\"},{\"attributes\":{},\"id\":\"1069\",\"type\":\"YearsTicker\"},{\"attributes\":{\"fill_alpha\":0.5,\"fill_color\":\"lightgrey\",\"level\":\"overlay\",\"line_alpha\":1.0,\"line_color\":\"black\",\"line_dash\":[4,4],\"line_width\":2,\"syncable\":false,\"xs_units\":\"screen\",\"ys_units\":\"screen\"},\"id\":\"1032\",\"type\":\"PolyAnnotation\"},{\"attributes\":{\"days\":[1,8,15,22]},\"id\":\"1063\",\"type\":\"DaysTicker\"},{\"attributes\":{},\"id\":\"1014\",\"type\":\"LinearScale\"},{\"attributes\":{},\"id\":\"1021\",\"type\":\"BasicTicker\"},{\"attributes\":{\"bottom_units\":\"screen\",\"fill_alpha\":0.5,\"fill_color\":\"lightgrey\",\"left_units\":\"screen\",\"level\":\"overlay\",\"line_alpha\":1.0,\"line_color\":\"black\",\"line_dash\":[4,4],\"line_width\":2,\"right_units\":\"screen\",\"syncable\":false,\"top_units\":\"screen\"},\"id\":\"1030\",\"type\":\"BoxAnnotation\"},{\"attributes\":{},\"id\":\"1054\",\"type\":\"AllLabels\"},{\"attributes\":{},\"id\":\"1106\",\"type\":\"UnionRenderers\"},{\"attributes\":{},\"id\":\"1053\",\"type\":\"BasicTickFormatter\"},{\"attributes\":{\"base\":24,\"mantissas\":[1,2,4,6,8,12],\"max_interval\":43200000.0,\"min_interval\":3600000.0,\"num_minor_ticks\":0},\"id\":\"1060\",\"type\":\"AdaptiveTicker\"},{\"attributes\":{\"months\":[0,2,4,6,8,10]},\"id\":\"1066\",\"type\":\"MonthsTicker\"},{\"attributes\":{\"overlay\":{\"id\":\"1032\"}},\"id\":\"1026\",\"type\":\"LassoSelectTool\"},{\"attributes\":{\"line_alpha\":0.1,\"line_color\":\"#EC1557\",\"line_width\":2,\"x\":{\"field\":\"Date\"},\"y\":{\"field\":\"Close\"}},\"id\":\"1044\",\"type\":\"Line\"},{\"attributes\":{\"months\":[0,1,2,3,4,5,6,7,8,9,10,11]},\"id\":\"1065\",\"type\":\"MonthsTicker\"},{\"attributes\":{},\"id\":\"1050\",\"type\":\"DatetimeTickFormatter\"},{\"attributes\":{\"source\":{\"id\":\"1041\"}},\"id\":\"1047\",\"type\":\"CDSView\"},{\"attributes\":{\"line_alpha\":0.5,\"line_color\":\"red\",\"line_width\":2,\"x\":{\"field\":\"Date\"},\"y\":{\"field\":\"Close\"}},\"id\":\"1045\",\"type\":\"Line\"},{\"attributes\":{\"text\":\"Returns\",\"text_color\":\"#5B5B5B\",\"text_font\":\"Calibri Light\",\"text_font_size\":\"1.25em\",\"text_font_style\":\"bold\"},\"id\":\"1006\",\"type\":\"Title\"},{\"attributes\":{\"months\":[0,4,8]},\"id\":\"1067\",\"type\":\"MonthsTicker\"},{\"attributes\":{\"days\":[1,15]},\"id\":\"1064\",\"type\":\"DaysTicker\"},{\"attributes\":{},\"id\":\"1012\",\"type\":\"LinearScale\"},{\"attributes\":{\"background_fill_alpha\":0.25,\"border_line_alpha\":0,\"glyph_width\":15,\"items\":[{\"id\":\"1073\"},{\"id\":\"1107\"}],\"label_standoff\":8,\"label_text_color\":\"#5B5B5B\",\"label_text_font\":\"Calibri Light\",\"label_text_font_size\":\"0.95em\",\"label_text_font_style\":\"bold\",\"location\":\"bottom_left\",\"spacing\":8},\"id\":\"1072\",\"type\":\"Legend\"},{\"attributes\":{\"data\":{\"Close\":{\"__ndarray__\":\"AAAAAAAA8D+1NP2I+RbwPxgKsdOrLPA/EkdZUWV18D/GAqK7OOHwP4PX8OnLkvA/sDtNnPG78D/j/J4/THjwP0aEdQwVqvA/KktNiilD8D+jvQhoulzwPyY0W+8RSfA/YghlE7sn8D8gy+vIDfjvPxWQA0k7oO8/nXJsmE9v7z+ZdqayGEfvP1dkc2AeGvA/z5kgzbtP7z8wO5k6ka3vP0c85tGc6e8/XnlIblEo8D8mE3KfSRjwP73IQ1A6L/A/8rHF8hgh8D/Ifv17Fx7wPxbigNQn9+8/HCoHq2MX8D80E88uRxPwPwL+4nIbFPA/NFhIcJAG8D91o3rOBGnuP4T7EYTWGe8/lfDtSU847z8re3kCjUzuPxrOvR8Ws+0/N7yvxdDH7T8=\",\"dtype\":\"float64\",\"order\":\"little\",\"shape\":[37]},\"Date\":{\"__ndarray__\":\"AABAGKtsd0IAAAB+/Wx3QgAAwONPbXdCAACASaJtd0IAAECv9G13QgAAgODrbndCAABARj5vd0IAAACskG93QgAAwBHjb3dCAACAdzVwd0IAAMCoLHF3QgAAgA5/cXdCAABAdNFxd0IAAADaI3J3QgAAwD92cndCAADA1r9zd0IAAIA8EnR3QgAAQKJkdHdCAAAACLd0d0IAAEA5rnV3QgAAAJ8AdndCAADABFN2d0IAAIBqpXZ3QgAAQND3dndCAACAAe93d0IAAEBnQXh3QgAAAM2TeHdCAADAMuZ4d0IAAICYOHl3QgAAAPsme3dCAADAYHl7d0IAAACScHx3QgAAwPfCfHdCAACAXRV9d0IAAEDDZ313QgAAACm6fXdCAABAWrF+d0I=\",\"dtype\":\"float64\",\"order\":\"little\",\"shape\":[37]},\"formated_date\":[\"04-01-2021\",\"05-01-2021\",\"06-01-2021\",\"07-01-2021\",\"08-01-2021\",\"11-01-2021\",\"12-01-2021\",\"13-01-2021\",\"14-01-2021\",\"15-01-2021\",\"18-01-2021\",\"19-01-2021\",\"20-01-2021\",\"21-01-2021\",\"22-01-2021\",\"26-01-2021\",\"27-01-2021\",\"28-01-2021\",\"29-01-2021\",\"01-02-2021\",\"02-02-2021\",\"03-02-2021\",\"04-02-2021\",\"05-02-2021\",\"08-02-2021\",\"09-02-2021\",\"10-02-2021\",\"11-02-2021\",\"12-02-2021\",\"18-02-2021\",\"19-02-2021\",\"22-02-2021\",\"23-02-2021\",\"24-02-2021\",\"25-02-2021\",\"26-02-2021\",\"01-03-2021\"],\"index\":[0,1,2,3,4,5,6,7,8,9,10,11,12,13,14,15,16,17,18,19,20,21,22,23,24,25,26,27,28,29,30,31,32,33,34,35,36]},\"selected\":{\"id\":\"1105\"},\"selection_policy\":{\"id\":\"1106\"}},\"id\":\"1074\",\"type\":\"ColumnDataSource\"},{\"attributes\":{\"data\":{\"Close\":{\"__ndarray__\":\"AAAAAAAA8D+1NP2I+RbwPxgKsdOrLPA/EkdZUWV18D/GAqK7OOHwP4PX8OnLkvA/sDtNnPG78D/j/J4/THjwP0aEdQwVqvA/KktNiilD8D+jvQhoulzwPyY0W+8RSfA/YghlE7sn8D8gy+vIDfjvPxWQA0k7oO8/nXJsmE9v7z+ZdqayGEfvP1dkc2AeGvA/z5kgzbtP7z8wO5k6ka3vP0c85tGc6e8/XnlIblEo8D8mE3KfSRjwP73IQ1A6L/A/8rHF8hgh8D/Ifv17Fx7wPxbigNQn9+8/HCoHq2MX8D80E88uRxPwPwL+4nIbFPA/NFhIcJAG8D91o3rOBGnuP4T7EYTWGe8/lfDtSU847z8re3kCjUzuPxrOvR8Ws+0/N7yvxdDH7T8=\",\"dtype\":\"float64\",\"order\":\"little\",\"shape\":[37]},\"Date\":{\"__ndarray__\":\"AABAGKtsd0IAAAB+/Wx3QgAAwONPbXdCAACASaJtd0IAAECv9G13QgAAgODrbndCAABARj5vd0IAAACskG93QgAAwBHjb3dCAACAdzVwd0IAAMCoLHF3QgAAgA5/cXdCAABAdNFxd0IAAADaI3J3QgAAwD92cndCAADA1r9zd0IAAIA8EnR3QgAAQKJkdHdCAAAACLd0d0IAAEA5rnV3QgAAAJ8AdndCAADABFN2d0IAAIBqpXZ3QgAAQND3dndCAACAAe93d0IAAEBnQXh3QgAAAM2TeHdCAADAMuZ4d0IAAICYOHl3QgAAAPsme3dCAADAYHl7d0IAAACScHx3QgAAwPfCfHdCAACAXRV9d0IAAEDDZ313QgAAACm6fXdCAABAWrF+d0I=\",\"dtype\":\"float64\",\"order\":\"little\",\"shape\":[37]},\"formated_date\":[\"04-01-2021\",\"05-01-2021\",\"06-01-2021\",\"07-01-2021\",\"08-01-2021\",\"11-01-2021\",\"12-01-2021\",\"13-01-2021\",\"14-01-2021\",\"15-01-2021\",\"18-01-2021\",\"19-01-2021\",\"20-01-2021\",\"21-01-2021\",\"22-01-2021\",\"26-01-2021\",\"27-01-2021\",\"28-01-2021\",\"29-01-2021\",\"01-02-2021\",\"02-02-2021\",\"03-02-2021\",\"04-02-2021\",\"05-02-2021\",\"08-02-2021\",\"09-02-2021\",\"10-02-2021\",\"11-02-2021\",\"12-02-2021\",\"18-02-2021\",\"19-02-2021\",\"22-02-2021\",\"23-02-2021\",\"24-02-2021\",\"25-02-2021\",\"26-02-2021\",\"01-03-2021\"],\"index\":[0,1,2,3,4,5,6,7,8,9,10,11,12,13,14,15,16,17,18,19,20,21,22,23,24,25,26,27,28,29,30,31,32,33,34,35,36]},\"selected\":{\"id\":\"1070\"},\"selection_policy\":{\"id\":\"1071\"}},\"id\":\"1041\",\"type\":\"ColumnDataSource\"},{\"attributes\":{\"line_alpha\":0.7,\"line_color\":\"#EC1557\",\"line_width\":2,\"x\":{\"field\":\"Date\"},\"y\":{\"field\":\"Close\"}},\"id\":\"1043\",\"type\":\"Line\"},{\"attributes\":{},\"id\":\"1029\",\"type\":\"ResetTool\"},{\"attributes\":{\"mantissas\":[1,2,5],\"max_interval\":500.0,\"num_minor_ticks\":0},\"id\":\"1058\",\"type\":\"AdaptiveTicker\"},{\"attributes\":{\"data_source\":{\"id\":\"1074\"},\"glyph\":{\"id\":\"1076\"},\"hover_glyph\":{\"id\":\"1078\"},\"muted_glyph\":null,\"nonselection_glyph\":{\"id\":\"1077\"},\"view\":{\"id\":\"1080\"}},\"id\":\"1079\",\"type\":\"GlyphRenderer\"},{\"attributes\":{},\"id\":\"1051\",\"type\":\"AllLabels\"},{\"attributes\":{\"label\":{\"value\":\"Close\"},\"renderers\":[{\"id\":\"1046\"}]},\"id\":\"1073\",\"type\":\"LegendItem\"},{\"attributes\":{\"line_alpha\":0.7,\"line_color\":\"#F05223\",\"line_width\":2,\"x\":{\"field\":\"Date\"},\"y\":{\"field\":\"formated_date\"}},\"id\":\"1076\",\"type\":\"Line\"},{\"attributes\":{},\"id\":\"1010\",\"type\":\"DataRange1d\"},{\"attributes\":{\"axis_label\":\"Date\",\"axis_label_standoff\":10,\"axis_label_text_color\":\"#5B5B5B\",\"axis_label_text_font\":\"Calibri Light\",\"axis_label_text_font_size\":\"1.15em\",\"axis_label_text_font_style\":\"bold\",\"axis_line_alpha\":1,\"axis_line_color\":\"#5B5B5B\",\"formatter\":{\"id\":\"1050\"},\"major_label_policy\":{\"id\":\"1051\"},\"major_label_text_color\":\"#5B5B5B\",\"major_label_text_font\":\"Calibri Light\",\"major_label_text_font_size\":\"0.95em\",\"major_label_text_font_style\":\"bold\",\"major_tick_in\":0,\"major_tick_line_alpha\":0.25,\"major_tick_line_color\":\"#5B5B5B\",\"major_tick_out\":3,\"minor_tick_line_alpha\":0.25,\"minor_tick_line_color\":\"#5B5B5B\",\"ticker\":{\"id\":\"1017\"}},\"id\":\"1016\",\"type\":\"DatetimeAxis\"},{\"attributes\":{},\"id\":\"1008\",\"type\":\"DataRange1d\"},{\"attributes\":{\"overlay\":{\"id\":\"1031\"}},\"id\":\"1027\",\"type\":\"BoxZoomTool\"},{\"attributes\":{\"line_alpha\":0.1,\"line_color\":\"#F05223\",\"line_width\":2,\"x\":{\"field\":\"Date\"},\"y\":{\"field\":\"formated_date\"}},\"id\":\"1077\",\"type\":\"Line\"},{\"attributes\":{},\"id\":\"1070\",\"type\":\"Selection\"},{\"attributes\":{},\"id\":\"1071\",\"type\":\"UnionRenderers\"},{\"attributes\":{\"base\":60,\"mantissas\":[1,2,5,10,15,20,30],\"max_interval\":1800000.0,\"min_interval\":1000.0,\"num_minor_ticks\":0},\"id\":\"1059\",\"type\":\"AdaptiveTicker\"},{\"attributes\":{\"num_minor_ticks\":5,\"tickers\":[{\"id\":\"1058\"},{\"id\":\"1059\"},{\"id\":\"1060\"},{\"id\":\"1061\"},{\"id\":\"1062\"},{\"id\":\"1063\"},{\"id\":\"1064\"},{\"id\":\"1065\"},{\"id\":\"1066\"},{\"id\":\"1067\"},{\"id\":\"1068\"},{\"id\":\"1069\"}]},\"id\":\"1017\",\"type\":\"DatetimeTicker\"},{\"attributes\":{\"overlay\":{\"id\":\"1030\"}},\"id\":\"1025\",\"type\":\"BoxSelectTool\"},{\"attributes\":{\"callback\":null,\"tooltips\":[[\"Ticker\",\"formated_date\"],[\"Date\",\"@formated_date\"],[\"Return\",\"@formated_date\"]]},\"id\":\"1108\",\"type\":\"HoverTool\"},{\"attributes\":{},\"id\":\"1024\",\"type\":\"PanTool\"},{\"attributes\":{\"bottom_units\":\"screen\",\"fill_alpha\":0.5,\"fill_color\":\"lightgrey\",\"left_units\":\"screen\",\"level\":\"overlay\",\"line_alpha\":1.0,\"line_color\":\"black\",\"line_dash\":[4,4],\"line_width\":2,\"right_units\":\"screen\",\"syncable\":false,\"top_units\":\"screen\"},\"id\":\"1031\",\"type\":\"BoxAnnotation\"},{\"attributes\":{},\"id\":\"1105\",\"type\":\"Selection\"},{\"attributes\":{\"source\":{\"id\":\"1074\"}},\"id\":\"1080\",\"type\":\"CDSView\"},{\"attributes\":{\"label\":{\"value\":\"formated_date\"},\"renderers\":[{\"id\":\"1079\"}]},\"id\":\"1107\",\"type\":\"LegendItem\"}],\"root_ids\":[\"1005\"]},\"title\":\"Bokeh Application\",\"version\":\"2.3.0\"}};\n  var render_items = [{\"docid\":\"35fed3af-89cb-4ee7-b8f1-9692ca6906dc\",\"root_ids\":[\"1005\"],\"roots\":{\"1005\":\"2e6251c9-559e-4906-a2d0-8828bfbc31ee\"}}];\n  root.Bokeh.embed.embed_items_notebook(docs_json, render_items);\n\n  }\n  if (root.Bokeh !== undefined) {\n    embed_document(root);\n  } else {\n    var attempts = 0;\n    var timer = setInterval(function(root) {\n      if (root.Bokeh !== undefined) {\n        clearInterval(timer);\n        embed_document(root);\n      } else {\n        attempts++;\n        if (attempts > 100) {\n          clearInterval(timer);\n          console.log(\"Bokeh: ERROR: Unable to run BokehJS code because BokehJS library is missing\");\n        }\n      }\n    }, 10, root)\n  }\n})(window);",
      "application/vnd.bokehjs_exec.v0+json": ""
     },
     "metadata": {
      "application/vnd.bokehjs_exec.v0+json": {
       "id": "1005"
      }
     }
    }
   ],
   "source": [
    "data_collector = DataCollector(symbols_list=[\"^BVSP\"], start_date=str('2021-01-01'), end_date=str('2021-03-01'))\n",
    "chart_data = data_collector.get_data(data_type=\"Close\")\n",
    "\n",
    "chart_data_normalised = chart_data/chart_data.iloc[0]\n",
    "chart_data_normalised = chart_data_normalised.reset_index()\n",
    "chart_data_normalised[\"formated_date\"] = chart_data_normalised[\"Date\"].apply(lambda d: d.strftime(\"%d-%m-%Y\"))\n",
    "\n",
    "curdoc().theme = 'caliber'\n",
    "select_tools = ['pan', 'box_select', 'lasso_select', 'box_zoom', 'wheel_zoom', 'reset']\n",
    "\n",
    "p = figure(\n",
    "    title=\"Returns\", x_axis_label='Date', y_axis_label='Return', x_axis_type='datetime',\n",
    "    plot_width=900, plot_height=350, toolbar_location='below', tools=select_tools)\n",
    "\n",
    "p.toolbar.logo = None\n",
    "\n",
    "for ticker, color in zip(chart_data_normalised.columns[1:], Bokeh6):\n",
    "    p.line(\n",
    "        x=\"Date\", y=ticker, source=chart_data_normalised,\n",
    "        legend_label=ticker, line_width=2, line_color=color, alpha=0.7,\n",
    "        hover_line_color='red', hover_alpha=0.5)\n",
    "\n",
    "tooltips = [('Ticker', ticker), ('Date', '@formated_date'), ('Return', f'@{ticker}')]\n",
    "p.add_tools(HoverTool(tooltips=tooltips))\n",
    "\n",
    "p.legend.location = \"bottom_left\"\n",
    "\n",
    "show(p)"
   ]
  },
  {
   "cell_type": "code",
   "execution_count": null,
   "metadata": {},
   "outputs": [],
   "source": []
  }
 ]
}