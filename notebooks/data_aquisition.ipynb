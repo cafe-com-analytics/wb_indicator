{
 "metadata": {
  "language_info": {
   "codemirror_mode": {
    "name": "ipython",
    "version": 3
   },
   "file_extension": ".py",
   "mimetype": "text/x-python",
   "name": "python",
   "nbconvert_exporter": "python",
   "pygments_lexer": "ipython3",
   "version": "3.8.5-final"
  },
  "orig_nbformat": 2,
  "kernelspec": {
   "name": "python3",
   "display_name": "Python 3.8.5 64-bit ('.venv')",
   "metadata": {
    "interpreter": {
     "hash": "90999dcf09c5b63b6f6f074f1f57990bf311b13a8cac958f77ad027e3d7ebc21"
    }
   }
  }
 },
 "nbformat": 4,
 "nbformat_minor": 2,
 "cells": [
  {
   "source": [
    "# Data Acquisition"
   ],
   "cell_type": "markdown",
   "metadata": {}
  },
  {
   "cell_type": "code",
   "execution_count": 1,
   "metadata": {},
   "outputs": [],
   "source": [
    "import pandas as pd\n",
    "import yfinance as yf\n",
    "\n",
    "URL = \"https://www.oceans14.com.br/acoes/\"\n",
    "# df_tickers = pd.read_html(URL)\n",
    "# df_tickers.head()"
   ]
  },
  {
   "source": [
    "*ATENÇÃO*\n",
    "Não foi possível raspar o site.\n",
    "Usarei a lista que obtivemos anteriormente."
   ],
   "cell_type": "markdown",
   "metadata": {}
  },
  {
   "cell_type": "code",
   "execution_count": 3,
   "metadata": {},
   "outputs": [
    {
     "output_type": "stream",
     "name": "stdout",
     "text": [
      "[*********************100%***********************]  2 of 2 completed\n",
      "[*********************100%***********************]  1 of 1 completed\n"
     ]
    }
   ],
   "source": [
    "data01 = yf.download([\"ITUB4.SA\",\"AAPL\"], start=\"2021-01-01\", end=\"2021-03-01\")\n",
    "data02 = yf.download(\"AAPL\", start=\"2021-01-01\", end=\"2021-03-01\")"
   ]
  },
  {
   "source": [
    "def get_data(self):\n",
    "    for symbol in self.symbols_list:\n",
    "        data = yf.download(symbol, start=self.start_date, end=self.end_date)"
   ],
   "cell_type": "code",
   "metadata": {},
   "execution_count": null,
   "outputs": []
  },
  {
   "cell_type": "code",
   "execution_count": 4,
   "metadata": {},
   "outputs": [
    {
     "output_type": "stream",
     "name": "stdout",
     "text": [
      "Tickers selected: ['EMBR3.SA', 'ABEV3.SA', 'CSAN3.SA', 'ENBR3.SA', 'COGN3.SA', 'ELET3.SA', 'BRDT3.SA', 'TAEE11.SA', 'BBDC3.SA', 'ITUB4.SA', '^BVSP', '^IBX50']\n",
      "[*********************100%***********************]  12 of 12 completed\n"
     ]
    },
    {
     "output_type": "execute_result",
     "data": {
      "text/plain": [
       "            ABEV3.SA  BBDC3.SA  BRDT3.SA  COGN3.SA  CSAN3.SA  ELET3.SA  \\\n",
       "Date                                                                     \n",
       "2021-01-04     15.48     23.60     21.85      4.70     79.24     35.63   \n",
       "2021-01-05     15.81     23.47     22.10      4.67     79.49     34.71   \n",
       "2021-01-06     16.13     24.06     21.78      4.53     79.30     34.15   \n",
       "2021-01-07     16.05     24.65     22.18      4.62     82.39     33.91   \n",
       "2021-01-08     16.53     24.46     22.80      4.82     82.25     34.98   \n",
       "\n",
       "            EMBR3.SA  ENBR3.SA  ITUB4.SA  TAEE11.SA     ^BVSP    ^IBX50  \n",
       "Date                                                                     \n",
       "2021-01-04      8.37     19.56     30.90      33.00  118558.0  19604.95  \n",
       "2021-01-05      8.57     19.10     30.70      33.06  119223.0  19760.08  \n",
       "2021-01-06      8.90     19.06     31.60      33.12  119851.0  19958.27  \n",
       "2021-01-07      8.88     18.56     32.83      32.15  121956.0  20436.20  \n",
       "2021-01-08      8.81     19.36     32.82      32.85  125077.0  20897.47  "
      ],
      "text/html": "<div>\n<style scoped>\n    .dataframe tbody tr th:only-of-type {\n        vertical-align: middle;\n    }\n\n    .dataframe tbody tr th {\n        vertical-align: top;\n    }\n\n    .dataframe thead th {\n        text-align: right;\n    }\n</style>\n<table border=\"1\" class=\"dataframe\">\n  <thead>\n    <tr style=\"text-align: right;\">\n      <th></th>\n      <th>ABEV3.SA</th>\n      <th>BBDC3.SA</th>\n      <th>BRDT3.SA</th>\n      <th>COGN3.SA</th>\n      <th>CSAN3.SA</th>\n      <th>ELET3.SA</th>\n      <th>EMBR3.SA</th>\n      <th>ENBR3.SA</th>\n      <th>ITUB4.SA</th>\n      <th>TAEE11.SA</th>\n      <th>^BVSP</th>\n      <th>^IBX50</th>\n    </tr>\n    <tr>\n      <th>Date</th>\n      <th></th>\n      <th></th>\n      <th></th>\n      <th></th>\n      <th></th>\n      <th></th>\n      <th></th>\n      <th></th>\n      <th></th>\n      <th></th>\n      <th></th>\n      <th></th>\n    </tr>\n  </thead>\n  <tbody>\n    <tr>\n      <th>2021-01-04</th>\n      <td>15.48</td>\n      <td>23.60</td>\n      <td>21.85</td>\n      <td>4.70</td>\n      <td>79.24</td>\n      <td>35.63</td>\n      <td>8.37</td>\n      <td>19.56</td>\n      <td>30.90</td>\n      <td>33.00</td>\n      <td>118558.0</td>\n      <td>19604.95</td>\n    </tr>\n    <tr>\n      <th>2021-01-05</th>\n      <td>15.81</td>\n      <td>23.47</td>\n      <td>22.10</td>\n      <td>4.67</td>\n      <td>79.49</td>\n      <td>34.71</td>\n      <td>8.57</td>\n      <td>19.10</td>\n      <td>30.70</td>\n      <td>33.06</td>\n      <td>119223.0</td>\n      <td>19760.08</td>\n    </tr>\n    <tr>\n      <th>2021-01-06</th>\n      <td>16.13</td>\n      <td>24.06</td>\n      <td>21.78</td>\n      <td>4.53</td>\n      <td>79.30</td>\n      <td>34.15</td>\n      <td>8.90</td>\n      <td>19.06</td>\n      <td>31.60</td>\n      <td>33.12</td>\n      <td>119851.0</td>\n      <td>19958.27</td>\n    </tr>\n    <tr>\n      <th>2021-01-07</th>\n      <td>16.05</td>\n      <td>24.65</td>\n      <td>22.18</td>\n      <td>4.62</td>\n      <td>82.39</td>\n      <td>33.91</td>\n      <td>8.88</td>\n      <td>18.56</td>\n      <td>32.83</td>\n      <td>32.15</td>\n      <td>121956.0</td>\n      <td>20436.20</td>\n    </tr>\n    <tr>\n      <th>2021-01-08</th>\n      <td>16.53</td>\n      <td>24.46</td>\n      <td>22.80</td>\n      <td>4.82</td>\n      <td>82.25</td>\n      <td>34.98</td>\n      <td>8.81</td>\n      <td>19.36</td>\n      <td>32.82</td>\n      <td>32.85</td>\n      <td>125077.0</td>\n      <td>20897.47</td>\n    </tr>\n  </tbody>\n</table>\n</div>"
     },
     "metadata": {},
     "execution_count": 4
    }
   ],
   "source": [
    "try:\n",
    "    from src.data_acquisition.collect_tickers_data import TickersCollector, DataCollector\n",
    "except:\n",
    "    os.chdir('../')\n",
    "    from src.data_acquisition.collect_tickers_data import TickersCollector, DataCollector\n",
    "\n",
    "tickers = TickersCollector(market='br', symbols_list=['ITUB4.SA'], qty=10)\n",
    "tickers.add_market()\n",
    "lst_tickers = tickers.show_tickers()\n",
    "data_collector = DataCollector(symbols_list=lst_tickers, start_date='2021-01-01', end_date='2021-03-01')\n",
    "\n",
    "chart_data = data_collector.get_data(data_type=\"Close\")\n",
    "chart_data = chart_data.round(2)\n",
    "chart_data.head()"
   ]
  },
  {
   "cell_type": "code",
   "execution_count": null,
   "metadata": {},
   "outputs": [],
   "source": [
    "chart_data.head()"
   ]
  }
 ]
}