{
 "metadata": {
  "language_info": {
   "codemirror_mode": {
    "name": "ipython",
    "version": 3
   },
   "file_extension": ".py",
   "mimetype": "text/x-python",
   "name": "python",
   "nbconvert_exporter": "python",
   "pygments_lexer": "ipython3",
   "version": "3.8.5"
  },
  "orig_nbformat": 2,
  "kernelspec": {
   "name": "python3",
   "display_name": "Python 3",
   "language": "python"
  }
 },
 "nbformat": 4,
 "nbformat_minor": 2,
 "cells": [
  {
   "cell_type": "code",
   "execution_count": 13,
   "metadata": {},
   "outputs": [],
   "source": [
    "import numpy as np\n",
    "import pandas as pd\n",
    "import seaborn as sns; sns.set()\n",
    "import matplotlib.pyplot as pyplot\n",
    "\n",
    "import matplotlib\n",
    "matplotlib.rcParams['figure.figsize'] = (16,8)"
   ]
  },
  {
   "cell_type": "code",
   "execution_count": 14,
   "metadata": {},
   "outputs": [],
   "source": [
    "import yfinance as yf\n",
    "import datetime as dt\n",
    "import time"
   ]
  },
  {
   "cell_type": "code",
   "execution_count": 15,
   "metadata": {},
   "outputs": [],
   "source": [
    "def consulta_bc(codigo_bcb: int) -> pd.DataFrame: \n",
    "    url = f'http://api.bcb.gov.br/dados/serie/bcdata.sgs.{codigo_bcb}/dados?formato=json'\n",
    "    df = pd.read_json(url)\n",
    "    df['data'] = pd.to_datetime(df['data'], dayfirst=True)\n",
    "    df.set_index('data', inplace=True)\n",
    "    return df"
   ]
  },
  {
   "cell_type": "code",
   "execution_count": 16,
   "metadata": {},
   "outputs": [],
   "source": [
    "pib = consulta_bc(1207)"
   ]
  },
  {
   "cell_type": "code",
   "execution_count": 17,
   "metadata": {},
   "outputs": [
    {
     "output_type": "stream",
     "name": "stdout",
     "text": [
      "                   valor\ndata                    \n1962-01-01  0.000000e+00\n1963-01-01  0.000000e+00\n1964-01-01  1.000000e-02\n1965-01-01  2.000000e-02\n1966-01-01  2.000000e-02\n1967-01-01  3.000000e-02\n1968-01-01  4.000000e-02\n1969-01-01  6.000000e-02\n1970-01-01  7.000000e-02\n1971-01-01  9.000000e-02\n1972-01-01  1.300000e-01\n1973-01-01  1.900000e-01\n1974-01-01  2.700000e-01\n1975-01-01  3.800000e-01\n1976-01-01  5.900000e-01\n1977-01-01  9.100000e-01\n1978-01-01  1.320000e+00\n1979-01-01  2.170000e+00\n1980-01-01  4.550000e+00\n1981-01-01  8.730000e+00\n1982-01-01  1.770000e+01\n1983-01-01  3.978000e+01\n1984-01-01  1.265000e+02\n1985-01-01  4.755300e+02\n1986-01-01  1.273680e+03\n1987-01-01  4.037810e+03\n1988-01-01  2.937563e+04\n1989-01-01  4.255953e+05\n1990-01-01  1.154879e+07\n1991-01-01  6.028600e+07\n1992-01-01  6.409588e+08\n1993-01-01  1.409711e+10\n1994-01-01  3.492047e+11\n1995-01-01  7.059916e+11\n1996-01-01  8.547636e+11\n1997-01-01  9.520892e+11\n1998-01-01  1.002351e+12\n1999-01-01  1.087710e+12\n2000-01-01  1.199092e+12\n2001-01-01  1.315755e+12\n2002-01-01  1.488787e+12\n2003-01-01  1.717950e+12\n2004-01-01  1.957751e+12\n2005-01-01  2.170585e+12\n2006-01-01  2.409450e+12\n2007-01-01  2.720263e+12\n2008-01-01  3.109803e+12\n2009-01-01  3.333039e+12\n2010-01-01  3.885847e+12\n2011-01-01  4.376382e+12\n2012-01-01  4.814760e+12\n2013-01-01  5.331619e+12\n2014-01-01  5.778953e+12\n2015-01-01  5.995787e+12\n2016-01-01  6.269328e+12\n2017-01-01  6.585479e+12\n2018-01-01  7.004141e+12\n2019-01-01  7.407024e+12\n2020-01-01  7.447858e+12\n"
     ]
    }
   ],
   "source": [
    "print(pib)"
   ]
  },
  {
   "cell_type": "code",
   "execution_count": 18,
   "metadata": {},
   "outputs": [],
   "source": [
    "stocks_br = pd.read_csv('../data/interim/ibovfull_alphavant.csv')"
   ]
  },
  {
   "cell_type": "code",
   "execution_count": 19,
   "metadata": {},
   "outputs": [
    {
     "output_type": "stream",
     "name": "stdout",
     "text": [
      "              date  1. open  2. high  3. low  4. close  5. volume   Name\n0       2021-03-31    31.19    31.68   29.73     30.35  5179300.0  QUAL3\n1       2021-03-30    30.69    31.10   30.46     31.00  3072600.0  QUAL3\n2       2021-03-29    31.01    31.13   30.29     30.75  1503100.0  QUAL3\n3       2021-03-26    31.92    32.26   30.67     31.11  3122200.0  QUAL3\n4       2021-03-25    31.99    32.44   31.53     32.21  2140300.0  QUAL3\n...            ...      ...      ...     ...       ...        ...    ...\n262435  2012-06-08     2.20     2.20    2.20      2.20    51665.0  COGN3\n262436  2012-06-01     2.30     2.31    2.30      2.31     2583.0  COGN3\n262437  2012-03-29     3.25     3.25    3.25      3.25   170496.0  COGN3\n262438  2012-03-16     3.25     3.25    3.25      3.25    60707.0  COGN3\n262439  2012-03-14     3.25     3.25    3.25      3.25     7749.0  COGN3\n\n[262440 rows x 7 columns]\n"
     ]
    }
   ],
   "source": [
    "print(stocks_br)"
   ]
  },
  {
   "cell_type": "code",
   "execution_count": 20,
   "metadata": {},
   "outputs": [],
   "source": [
    "stocks_br['Marketcap'] = stocks_br['4. close'] * stocks_br['5. volume']"
   ]
  },
  {
   "cell_type": "code",
   "execution_count": 21,
   "metadata": {},
   "outputs": [
    {
     "output_type": "stream",
     "name": "stdout",
     "text": [
      "              date  1. open  2. high  3. low  4. close  5. volume   Name  \\\n0       2021-03-31    31.19    31.68   29.73     30.35  5179300.0  QUAL3   \n1       2021-03-30    30.69    31.10   30.46     31.00  3072600.0  QUAL3   \n2       2021-03-29    31.01    31.13   30.29     30.75  1503100.0  QUAL3   \n3       2021-03-26    31.92    32.26   30.67     31.11  3122200.0  QUAL3   \n4       2021-03-25    31.99    32.44   31.53     32.21  2140300.0  QUAL3   \n...            ...      ...      ...     ...       ...        ...    ...   \n262435  2012-06-08     2.20     2.20    2.20      2.20    51665.0  COGN3   \n262436  2012-06-01     2.30     2.31    2.30      2.31     2583.0  COGN3   \n262437  2012-03-29     3.25     3.25    3.25      3.25   170496.0  COGN3   \n262438  2012-03-16     3.25     3.25    3.25      3.25    60707.0  COGN3   \n262439  2012-03-14     3.25     3.25    3.25      3.25     7749.0  COGN3   \n\n           Marketcap  \n0       1.571918e+08  \n1       9.525060e+07  \n2       4.622032e+07  \n3       9.713164e+07  \n4       6.893906e+07  \n...              ...  \n262435  1.136630e+05  \n262436  5.966730e+03  \n262437  5.541120e+05  \n262438  1.972978e+05  \n262439  2.518425e+04  \n\n[262440 rows x 8 columns]\n"
     ]
    }
   ],
   "source": [
    "print(stocks_br)"
   ]
  },
  {
   "cell_type": "code",
   "execution_count": 23,
   "metadata": {},
   "outputs": [],
   "source": [
    "mktcap_br = stocks_br.groupby(\n",
    "     ['date']\n",
    " ).agg(\n",
    "     Marketcap_br = ('Marketcap','sum'),\n",
    " ).reset_index()"
   ]
  },
  {
   "cell_type": "code",
   "execution_count": 24,
   "metadata": {},
   "outputs": [
    {
     "output_type": "stream",
     "name": "stdout",
     "text": [
      "            date  Marketcap_br\n0     2005-01-03  1.116882e+12\n1     2005-01-04  1.436075e+12\n2     2005-01-05  1.247464e+12\n3     2005-01-06  1.031449e+12\n4     2005-01-07  1.123345e+12\n...          ...           ...\n4014  2021-03-25  4.459374e+10\n4015  2021-03-26  4.522327e+10\n4016  2021-03-29  4.297389e+10\n4017  2021-03-30  3.570216e+10\n4018  2021-03-31  3.907231e+10\n\n[4019 rows x 2 columns]\n"
     ]
    }
   ],
   "source": [
    "print(mktcap_br)"
   ]
  },
  {
   "cell_type": "code",
   "execution_count": 25,
   "metadata": {},
   "outputs": [],
   "source": [
    "stocks_br.to_csv('../data/interim/stocks_br_alpha.csv', index=False)"
   ]
  },
  {
   "cell_type": "code",
   "execution_count": null,
   "metadata": {},
   "outputs": [],
   "source": []
  }
 ]
}